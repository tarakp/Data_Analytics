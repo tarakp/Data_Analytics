{
 "cells": [
  {
   "cell_type": "markdown",
   "metadata": {},
   "source": [
    "# VacationPy\n",
    "----\n",
    "\n",
    "#### Note\n",
    "* Keep an eye on your API usage. Use https://developers.google.com/maps/reporting/gmp-reporting as reference for how to monitor your usage and billing.\n",
    "\n",
    "* Instructions have been included for each segment. You do not have to follow them exactly, but they are included to help you think through the steps."
   ]
  },
  {
   "cell_type": "code",
   "execution_count": 1,
   "metadata": {},
   "outputs": [],
   "source": [
    "# Dependencies and Setup\n",
    "import matplotlib.pyplot as plt\n",
    "import pandas as pd\n",
    "import numpy as np\n",
    "import requests\n",
    "import gmaps\n",
    "import os\n",
    "\n",
    "# Import API key\n",
    "from api_keys import g_key\n"
   ]
  },
  {
   "cell_type": "markdown",
   "metadata": {},
   "source": [
    "### Store Part I results into DataFrame\n",
    "* Load the csv exported in Part I to a DataFrame"
   ]
  },
  {
   "cell_type": "code",
   "execution_count": 2,
   "metadata": {},
   "outputs": [
    {
     "output_type": "execute_result",
     "data": {
      "text/plain": [
       "            City      Lat       Lng  Max Temp  Humidity  Cloudiness  \\\n",
       "0          Ibrā’  22.6906   58.5334     78.57        37         100   \n",
       "1        Ushuaia -54.8000  -68.3000     51.80        58          40   \n",
       "2           Nome  64.5011 -165.4064     33.80        75           1   \n",
       "3          Seoul  37.5683  126.9778     55.40        44          20   \n",
       "4     Nanortalik  60.1432  -45.2371     25.16        53           0   \n",
       "..           ...      ...       ...       ...       ...         ...   \n",
       "549  Terrace Bay  48.7834  -87.1000     30.20        86          15   \n",
       "550    Porbandar  21.6422   69.6093     77.00       100          19   \n",
       "551         Ayan  56.4500  138.1667     28.04        89          98   \n",
       "552     Maragogi  -9.0122  -35.2225     76.21        83          92   \n",
       "553       Ekhabi  53.5102  142.9671     36.79        96          96   \n",
       "\n",
       "     Wind Speed Country        Date  \n",
       "0          2.80      OM  1618714021  \n",
       "1         11.50      AR  1618713586  \n",
       "2          6.91      US  1618713961  \n",
       "3         11.50      KR  1618713954  \n",
       "4         25.41      GL  1618714021  \n",
       "..          ...     ...         ...  \n",
       "549        2.30      CA  1618714206  \n",
       "550        5.91      IN  1618714206  \n",
       "551        4.27      RU  1618714207  \n",
       "552        2.68      BR  1618714207  \n",
       "553        3.98      RU  1618714207  \n",
       "\n",
       "[554 rows x 9 columns]"
      ],
      "text/html": "<div>\n<style scoped>\n    .dataframe tbody tr th:only-of-type {\n        vertical-align: middle;\n    }\n\n    .dataframe tbody tr th {\n        vertical-align: top;\n    }\n\n    .dataframe thead th {\n        text-align: right;\n    }\n</style>\n<table border=\"1\" class=\"dataframe\">\n  <thead>\n    <tr style=\"text-align: right;\">\n      <th></th>\n      <th>City</th>\n      <th>Lat</th>\n      <th>Lng</th>\n      <th>Max Temp</th>\n      <th>Humidity</th>\n      <th>Cloudiness</th>\n      <th>Wind Speed</th>\n      <th>Country</th>\n      <th>Date</th>\n    </tr>\n  </thead>\n  <tbody>\n    <tr>\n      <th>0</th>\n      <td>Ibrā’</td>\n      <td>22.6906</td>\n      <td>58.5334</td>\n      <td>78.57</td>\n      <td>37</td>\n      <td>100</td>\n      <td>2.80</td>\n      <td>OM</td>\n      <td>1618714021</td>\n    </tr>\n    <tr>\n      <th>1</th>\n      <td>Ushuaia</td>\n      <td>-54.8000</td>\n      <td>-68.3000</td>\n      <td>51.80</td>\n      <td>58</td>\n      <td>40</td>\n      <td>11.50</td>\n      <td>AR</td>\n      <td>1618713586</td>\n    </tr>\n    <tr>\n      <th>2</th>\n      <td>Nome</td>\n      <td>64.5011</td>\n      <td>-165.4064</td>\n      <td>33.80</td>\n      <td>75</td>\n      <td>1</td>\n      <td>6.91</td>\n      <td>US</td>\n      <td>1618713961</td>\n    </tr>\n    <tr>\n      <th>3</th>\n      <td>Seoul</td>\n      <td>37.5683</td>\n      <td>126.9778</td>\n      <td>55.40</td>\n      <td>44</td>\n      <td>20</td>\n      <td>11.50</td>\n      <td>KR</td>\n      <td>1618713954</td>\n    </tr>\n    <tr>\n      <th>4</th>\n      <td>Nanortalik</td>\n      <td>60.1432</td>\n      <td>-45.2371</td>\n      <td>25.16</td>\n      <td>53</td>\n      <td>0</td>\n      <td>25.41</td>\n      <td>GL</td>\n      <td>1618714021</td>\n    </tr>\n    <tr>\n      <th>...</th>\n      <td>...</td>\n      <td>...</td>\n      <td>...</td>\n      <td>...</td>\n      <td>...</td>\n      <td>...</td>\n      <td>...</td>\n      <td>...</td>\n      <td>...</td>\n    </tr>\n    <tr>\n      <th>549</th>\n      <td>Terrace Bay</td>\n      <td>48.7834</td>\n      <td>-87.1000</td>\n      <td>30.20</td>\n      <td>86</td>\n      <td>15</td>\n      <td>2.30</td>\n      <td>CA</td>\n      <td>1618714206</td>\n    </tr>\n    <tr>\n      <th>550</th>\n      <td>Porbandar</td>\n      <td>21.6422</td>\n      <td>69.6093</td>\n      <td>77.00</td>\n      <td>100</td>\n      <td>19</td>\n      <td>5.91</td>\n      <td>IN</td>\n      <td>1618714206</td>\n    </tr>\n    <tr>\n      <th>551</th>\n      <td>Ayan</td>\n      <td>56.4500</td>\n      <td>138.1667</td>\n      <td>28.04</td>\n      <td>89</td>\n      <td>98</td>\n      <td>4.27</td>\n      <td>RU</td>\n      <td>1618714207</td>\n    </tr>\n    <tr>\n      <th>552</th>\n      <td>Maragogi</td>\n      <td>-9.0122</td>\n      <td>-35.2225</td>\n      <td>76.21</td>\n      <td>83</td>\n      <td>92</td>\n      <td>2.68</td>\n      <td>BR</td>\n      <td>1618714207</td>\n    </tr>\n    <tr>\n      <th>553</th>\n      <td>Ekhabi</td>\n      <td>53.5102</td>\n      <td>142.9671</td>\n      <td>36.79</td>\n      <td>96</td>\n      <td>96</td>\n      <td>3.98</td>\n      <td>RU</td>\n      <td>1618714207</td>\n    </tr>\n  </tbody>\n</table>\n<p>554 rows × 9 columns</p>\n</div>"
     },
     "metadata": {},
     "execution_count": 2
    }
   ],
   "source": [
    "\n",
    "cities_df = pd.read_csv('../output_data/cities_t.csv')\n",
    "cities_df"
   ]
  },
  {
   "cell_type": "markdown",
   "metadata": {},
   "source": [
    "### Humidity Heatmap\n",
    "* Configure gmaps.\n",
    "* Use the Lat and Lng as locations and Humidity as the weight.\n",
    "* Add Heatmap layer to map."
   ]
  },
  {
   "cell_type": "code",
   "execution_count": 3,
   "metadata": {},
   "outputs": [],
   "source": [
    "gmaps.configure(api_key=g_key)\n",
    "locations = cities_df[['Lat', 'Lng']].astype(float)\n",
    "humidity = cities_df['Humidity'].astype(float)"
   ]
  },
  {
   "cell_type": "code",
   "execution_count": 4,
   "metadata": {},
   "outputs": [
    {
     "output_type": "display_data",
     "data": {
      "text/plain": "Figure(layout=FigureLayout(height='420px'))",
      "application/vnd.jupyter.widget-view+json": {
       "version_major": 2,
       "version_minor": 0,
       "model_id": "4f7bb373a3874e10a23eb81d88c14534"
      }
     },
     "metadata": {}
    }
   ],
   "source": [
    "# Create a poverty Heatmap layer\n",
    "fig = gmaps.figure()\n",
    "\n",
    "heat_layer = gmaps.heatmap_layer(locations, weights=humidity)\n",
    "\n",
    "fig.add_layer(heat_layer)\n",
    "\n",
    "fig"
   ]
  },
  {
   "cell_type": "markdown",
   "metadata": {},
   "source": [
    "### Create new DataFrame fitting weather criteria\n",
    "* Narrow down the cities to fit weather conditions.\n",
    "* Drop any rows will null values."
   ]
  },
  {
   "cell_type": "code",
   "execution_count": 6,
   "metadata": {},
   "outputs": [
    {
     "output_type": "execute_result",
     "data": {
      "text/plain": [
       "                City      Lat       Lng  Max Temp  Humidity  Cloudiness  \\\n",
       "14        Aquidauana -20.4711  -55.7872     73.04        75           0   \n",
       "33          Hermanus -34.4187   19.2345     73.00        21           0   \n",
       "62         Busselton -33.6500  115.3333     71.01        57           0   \n",
       "96             Conde  -7.2597  -34.9075     73.40       100           0   \n",
       "105            Adrar  20.5022  -10.0711     70.12        24           0   \n",
       "119        Cape Town -33.9258   18.4232     73.00        71           0   \n",
       "183          Pitimbu  -7.4706  -34.8086     73.40       100           0   \n",
       "263             Doha  25.2867   51.5333     78.80        25           0   \n",
       "330         Belmonte -15.8631  -38.8828     71.60        88           0   \n",
       "340           Safaga  26.7292   33.9365     78.80        13           0   \n",
       "429  Lázaro Cárdenas  17.9583 -102.2000     75.11        68           0   \n",
       "460           Riyadh  24.6877   46.7219     71.60        26           0   \n",
       "467           Álamos  27.0167 -108.9333     77.00        47           0   \n",
       "535        Vredendal -31.6683   18.5012     77.38        18           0   \n",
       "547        Taoudenni  22.6783   -3.9836     79.45        16           0   \n",
       "\n",
       "     Wind Speed Country        Date  \n",
       "14         3.49      BR  1618714024  \n",
       "33         3.00      ZA  1618714030  \n",
       "62         3.00      AU  1618714039  \n",
       "96         5.75      BR  1618714050  \n",
       "105        9.60      MR  1618714053  \n",
       "119        2.30      ZA  1618713952  \n",
       "183        5.75      BR  1618714080  \n",
       "263        9.22      QA  1618714106  \n",
       "330        4.54      BR  1618714129  \n",
       "340        8.05      EG  1618714132  \n",
       "429        6.69      MX  1618714163  \n",
       "460        3.44      SA  1618714174  \n",
       "467        2.30      MX  1618714176  \n",
       "535        8.99      ZA  1618714200  \n",
       "547        9.95      ML  1618714205  "
      ],
      "text/html": "<div>\n<style scoped>\n    .dataframe tbody tr th:only-of-type {\n        vertical-align: middle;\n    }\n\n    .dataframe tbody tr th {\n        vertical-align: top;\n    }\n\n    .dataframe thead th {\n        text-align: right;\n    }\n</style>\n<table border=\"1\" class=\"dataframe\">\n  <thead>\n    <tr style=\"text-align: right;\">\n      <th></th>\n      <th>City</th>\n      <th>Lat</th>\n      <th>Lng</th>\n      <th>Max Temp</th>\n      <th>Humidity</th>\n      <th>Cloudiness</th>\n      <th>Wind Speed</th>\n      <th>Country</th>\n      <th>Date</th>\n    </tr>\n  </thead>\n  <tbody>\n    <tr>\n      <th>14</th>\n      <td>Aquidauana</td>\n      <td>-20.4711</td>\n      <td>-55.7872</td>\n      <td>73.04</td>\n      <td>75</td>\n      <td>0</td>\n      <td>3.49</td>\n      <td>BR</td>\n      <td>1618714024</td>\n    </tr>\n    <tr>\n      <th>33</th>\n      <td>Hermanus</td>\n      <td>-34.4187</td>\n      <td>19.2345</td>\n      <td>73.00</td>\n      <td>21</td>\n      <td>0</td>\n      <td>3.00</td>\n      <td>ZA</td>\n      <td>1618714030</td>\n    </tr>\n    <tr>\n      <th>62</th>\n      <td>Busselton</td>\n      <td>-33.6500</td>\n      <td>115.3333</td>\n      <td>71.01</td>\n      <td>57</td>\n      <td>0</td>\n      <td>3.00</td>\n      <td>AU</td>\n      <td>1618714039</td>\n    </tr>\n    <tr>\n      <th>96</th>\n      <td>Conde</td>\n      <td>-7.2597</td>\n      <td>-34.9075</td>\n      <td>73.40</td>\n      <td>100</td>\n      <td>0</td>\n      <td>5.75</td>\n      <td>BR</td>\n      <td>1618714050</td>\n    </tr>\n    <tr>\n      <th>105</th>\n      <td>Adrar</td>\n      <td>20.5022</td>\n      <td>-10.0711</td>\n      <td>70.12</td>\n      <td>24</td>\n      <td>0</td>\n      <td>9.60</td>\n      <td>MR</td>\n      <td>1618714053</td>\n    </tr>\n    <tr>\n      <th>119</th>\n      <td>Cape Town</td>\n      <td>-33.9258</td>\n      <td>18.4232</td>\n      <td>73.00</td>\n      <td>71</td>\n      <td>0</td>\n      <td>2.30</td>\n      <td>ZA</td>\n      <td>1618713952</td>\n    </tr>\n    <tr>\n      <th>183</th>\n      <td>Pitimbu</td>\n      <td>-7.4706</td>\n      <td>-34.8086</td>\n      <td>73.40</td>\n      <td>100</td>\n      <td>0</td>\n      <td>5.75</td>\n      <td>BR</td>\n      <td>1618714080</td>\n    </tr>\n    <tr>\n      <th>263</th>\n      <td>Doha</td>\n      <td>25.2867</td>\n      <td>51.5333</td>\n      <td>78.80</td>\n      <td>25</td>\n      <td>0</td>\n      <td>9.22</td>\n      <td>QA</td>\n      <td>1618714106</td>\n    </tr>\n    <tr>\n      <th>330</th>\n      <td>Belmonte</td>\n      <td>-15.8631</td>\n      <td>-38.8828</td>\n      <td>71.60</td>\n      <td>88</td>\n      <td>0</td>\n      <td>4.54</td>\n      <td>BR</td>\n      <td>1618714129</td>\n    </tr>\n    <tr>\n      <th>340</th>\n      <td>Safaga</td>\n      <td>26.7292</td>\n      <td>33.9365</td>\n      <td>78.80</td>\n      <td>13</td>\n      <td>0</td>\n      <td>8.05</td>\n      <td>EG</td>\n      <td>1618714132</td>\n    </tr>\n    <tr>\n      <th>429</th>\n      <td>Lázaro Cárdenas</td>\n      <td>17.9583</td>\n      <td>-102.2000</td>\n      <td>75.11</td>\n      <td>68</td>\n      <td>0</td>\n      <td>6.69</td>\n      <td>MX</td>\n      <td>1618714163</td>\n    </tr>\n    <tr>\n      <th>460</th>\n      <td>Riyadh</td>\n      <td>24.6877</td>\n      <td>46.7219</td>\n      <td>71.60</td>\n      <td>26</td>\n      <td>0</td>\n      <td>3.44</td>\n      <td>SA</td>\n      <td>1618714174</td>\n    </tr>\n    <tr>\n      <th>467</th>\n      <td>Álamos</td>\n      <td>27.0167</td>\n      <td>-108.9333</td>\n      <td>77.00</td>\n      <td>47</td>\n      <td>0</td>\n      <td>2.30</td>\n      <td>MX</td>\n      <td>1618714176</td>\n    </tr>\n    <tr>\n      <th>535</th>\n      <td>Vredendal</td>\n      <td>-31.6683</td>\n      <td>18.5012</td>\n      <td>77.38</td>\n      <td>18</td>\n      <td>0</td>\n      <td>8.99</td>\n      <td>ZA</td>\n      <td>1618714200</td>\n    </tr>\n    <tr>\n      <th>547</th>\n      <td>Taoudenni</td>\n      <td>22.6783</td>\n      <td>-3.9836</td>\n      <td>79.45</td>\n      <td>16</td>\n      <td>0</td>\n      <td>9.95</td>\n      <td>ML</td>\n      <td>1618714205</td>\n    </tr>\n  </tbody>\n</table>\n</div>"
     },
     "metadata": {},
     "execution_count": 6
    }
   ],
   "source": [
    "cities_temp_df = cities_df[(cities_df['Max Temp'] >= 70) & (cities_df['Max Temp'] <= 80)]\n",
    "cities_temp_ws_df = cities_temp_df[(cities_temp_df['Wind Speed'] < 10) & (cities_temp_df['Cloudiness'] == 0)]\n",
    "# cities_temp_df.to_csv('../output_data/cities_maxtemp.csv', index=False)\n",
    "cities_temp_ws_df"
   ]
  },
  {
   "cell_type": "markdown",
   "metadata": {},
   "source": [
    "### Hotel Map\n",
    "* Store into variable named `hotel_df`.\n",
    "* Add a \"Hotel Name\" column to the DataFrame.\n",
    "* Set parameters to search for hotels with 5000 meters.\n",
    "* Hit the Google Places API for each city's coordinates.\n",
    "* Store the first Hotel result into the DataFrame.\n",
    "* Plot markers on top of the heatmap."
   ]
  },
  {
   "cell_type": "code",
   "execution_count": 7,
   "metadata": {},
   "outputs": [
    {
     "output_type": "execute_result",
     "data": {
      "text/plain": [
       "    index             City      Lat       Lng  Max Temp  Humidity  Cloudiness  \\\n",
       "0      14       Aquidauana -20.4711  -55.7872     73.04        75           0   \n",
       "1      33         Hermanus -34.4187   19.2345     73.00        21           0   \n",
       "2      62        Busselton -33.6500  115.3333     71.01        57           0   \n",
       "3      96            Conde  -7.2597  -34.9075     73.40       100           0   \n",
       "4     105            Adrar  20.5022  -10.0711     70.12        24           0   \n",
       "5     119        Cape Town -33.9258   18.4232     73.00        71           0   \n",
       "6     183          Pitimbu  -7.4706  -34.8086     73.40       100           0   \n",
       "7     263             Doha  25.2867   51.5333     78.80        25           0   \n",
       "8     330         Belmonte -15.8631  -38.8828     71.60        88           0   \n",
       "9     340           Safaga  26.7292   33.9365     78.80        13           0   \n",
       "10    429  Lázaro Cárdenas  17.9583 -102.2000     75.11        68           0   \n",
       "11    460           Riyadh  24.6877   46.7219     71.60        26           0   \n",
       "12    467           Álamos  27.0167 -108.9333     77.00        47           0   \n",
       "13    535        Vredendal -31.6683   18.5012     77.38        18           0   \n",
       "14    547        Taoudenni  22.6783   -3.9836     79.45        16           0   \n",
       "\n",
       "    Wind Speed Country        Date  \n",
       "0         3.49      BR  1618714024  \n",
       "1         3.00      ZA  1618714030  \n",
       "2         3.00      AU  1618714039  \n",
       "3         5.75      BR  1618714050  \n",
       "4         9.60      MR  1618714053  \n",
       "5         2.30      ZA  1618713952  \n",
       "6         5.75      BR  1618714080  \n",
       "7         9.22      QA  1618714106  \n",
       "8         4.54      BR  1618714129  \n",
       "9         8.05      EG  1618714132  \n",
       "10        6.69      MX  1618714163  \n",
       "11        3.44      SA  1618714174  \n",
       "12        2.30      MX  1618714176  \n",
       "13        8.99      ZA  1618714200  \n",
       "14        9.95      ML  1618714205  "
      ],
      "text/html": "<div>\n<style scoped>\n    .dataframe tbody tr th:only-of-type {\n        vertical-align: middle;\n    }\n\n    .dataframe tbody tr th {\n        vertical-align: top;\n    }\n\n    .dataframe thead th {\n        text-align: right;\n    }\n</style>\n<table border=\"1\" class=\"dataframe\">\n  <thead>\n    <tr style=\"text-align: right;\">\n      <th></th>\n      <th>index</th>\n      <th>City</th>\n      <th>Lat</th>\n      <th>Lng</th>\n      <th>Max Temp</th>\n      <th>Humidity</th>\n      <th>Cloudiness</th>\n      <th>Wind Speed</th>\n      <th>Country</th>\n      <th>Date</th>\n    </tr>\n  </thead>\n  <tbody>\n    <tr>\n      <th>0</th>\n      <td>14</td>\n      <td>Aquidauana</td>\n      <td>-20.4711</td>\n      <td>-55.7872</td>\n      <td>73.04</td>\n      <td>75</td>\n      <td>0</td>\n      <td>3.49</td>\n      <td>BR</td>\n      <td>1618714024</td>\n    </tr>\n    <tr>\n      <th>1</th>\n      <td>33</td>\n      <td>Hermanus</td>\n      <td>-34.4187</td>\n      <td>19.2345</td>\n      <td>73.00</td>\n      <td>21</td>\n      <td>0</td>\n      <td>3.00</td>\n      <td>ZA</td>\n      <td>1618714030</td>\n    </tr>\n    <tr>\n      <th>2</th>\n      <td>62</td>\n      <td>Busselton</td>\n      <td>-33.6500</td>\n      <td>115.3333</td>\n      <td>71.01</td>\n      <td>57</td>\n      <td>0</td>\n      <td>3.00</td>\n      <td>AU</td>\n      <td>1618714039</td>\n    </tr>\n    <tr>\n      <th>3</th>\n      <td>96</td>\n      <td>Conde</td>\n      <td>-7.2597</td>\n      <td>-34.9075</td>\n      <td>73.40</td>\n      <td>100</td>\n      <td>0</td>\n      <td>5.75</td>\n      <td>BR</td>\n      <td>1618714050</td>\n    </tr>\n    <tr>\n      <th>4</th>\n      <td>105</td>\n      <td>Adrar</td>\n      <td>20.5022</td>\n      <td>-10.0711</td>\n      <td>70.12</td>\n      <td>24</td>\n      <td>0</td>\n      <td>9.60</td>\n      <td>MR</td>\n      <td>1618714053</td>\n    </tr>\n    <tr>\n      <th>5</th>\n      <td>119</td>\n      <td>Cape Town</td>\n      <td>-33.9258</td>\n      <td>18.4232</td>\n      <td>73.00</td>\n      <td>71</td>\n      <td>0</td>\n      <td>2.30</td>\n      <td>ZA</td>\n      <td>1618713952</td>\n    </tr>\n    <tr>\n      <th>6</th>\n      <td>183</td>\n      <td>Pitimbu</td>\n      <td>-7.4706</td>\n      <td>-34.8086</td>\n      <td>73.40</td>\n      <td>100</td>\n      <td>0</td>\n      <td>5.75</td>\n      <td>BR</td>\n      <td>1618714080</td>\n    </tr>\n    <tr>\n      <th>7</th>\n      <td>263</td>\n      <td>Doha</td>\n      <td>25.2867</td>\n      <td>51.5333</td>\n      <td>78.80</td>\n      <td>25</td>\n      <td>0</td>\n      <td>9.22</td>\n      <td>QA</td>\n      <td>1618714106</td>\n    </tr>\n    <tr>\n      <th>8</th>\n      <td>330</td>\n      <td>Belmonte</td>\n      <td>-15.8631</td>\n      <td>-38.8828</td>\n      <td>71.60</td>\n      <td>88</td>\n      <td>0</td>\n      <td>4.54</td>\n      <td>BR</td>\n      <td>1618714129</td>\n    </tr>\n    <tr>\n      <th>9</th>\n      <td>340</td>\n      <td>Safaga</td>\n      <td>26.7292</td>\n      <td>33.9365</td>\n      <td>78.80</td>\n      <td>13</td>\n      <td>0</td>\n      <td>8.05</td>\n      <td>EG</td>\n      <td>1618714132</td>\n    </tr>\n    <tr>\n      <th>10</th>\n      <td>429</td>\n      <td>Lázaro Cárdenas</td>\n      <td>17.9583</td>\n      <td>-102.2000</td>\n      <td>75.11</td>\n      <td>68</td>\n      <td>0</td>\n      <td>6.69</td>\n      <td>MX</td>\n      <td>1618714163</td>\n    </tr>\n    <tr>\n      <th>11</th>\n      <td>460</td>\n      <td>Riyadh</td>\n      <td>24.6877</td>\n      <td>46.7219</td>\n      <td>71.60</td>\n      <td>26</td>\n      <td>0</td>\n      <td>3.44</td>\n      <td>SA</td>\n      <td>1618714174</td>\n    </tr>\n    <tr>\n      <th>12</th>\n      <td>467</td>\n      <td>Álamos</td>\n      <td>27.0167</td>\n      <td>-108.9333</td>\n      <td>77.00</td>\n      <td>47</td>\n      <td>0</td>\n      <td>2.30</td>\n      <td>MX</td>\n      <td>1618714176</td>\n    </tr>\n    <tr>\n      <th>13</th>\n      <td>535</td>\n      <td>Vredendal</td>\n      <td>-31.6683</td>\n      <td>18.5012</td>\n      <td>77.38</td>\n      <td>18</td>\n      <td>0</td>\n      <td>8.99</td>\n      <td>ZA</td>\n      <td>1618714200</td>\n    </tr>\n    <tr>\n      <th>14</th>\n      <td>547</td>\n      <td>Taoudenni</td>\n      <td>22.6783</td>\n      <td>-3.9836</td>\n      <td>79.45</td>\n      <td>16</td>\n      <td>0</td>\n      <td>9.95</td>\n      <td>ML</td>\n      <td>1618714205</td>\n    </tr>\n  </tbody>\n</table>\n</div>"
     },
     "metadata": {},
     "execution_count": 7
    }
   ],
   "source": [
    "hotel_df = cities_temp_ws_df.reset_index()\n",
    "hotel_df"
   ]
  },
  {
   "cell_type": "code",
   "execution_count": 8,
   "metadata": {},
   "outputs": [
    {
     "output_type": "execute_result",
     "data": {
      "text/plain": [
       "'Royal Tours Permanent Camp'"
      ]
     },
     "metadata": {},
     "execution_count": 8
    }
   ],
   "source": [
    "hotel_df['Hotel Name'] = ''\n",
    "# params dictionary to update each iteration\n",
    "params = {\n",
    "    \"location\": '25.0213, 37.2685',\n",
    "    \"radius\": 100000,\n",
    "    \"types\": \"Hotel\",\n",
    "    \"keyword\": \"hotel\",\n",
    "    \"key\": g_key\n",
    "}\n",
    "\n",
    "base_url = \"https://maps.googleapis.com/maps/api/place/nearbysearch/json\"\n",
    "\n",
    "    # make request and print url\n",
    "hotel = requests.get(base_url, params=params).json()\n",
    "hotel[\"results\"][0][\"name\"]\n",
    "\n",
    "\n"
   ]
  },
  {
   "cell_type": "code",
   "execution_count": 9,
   "metadata": {},
   "outputs": [
    {
     "output_type": "stream",
     "name": "stdout",
     "text": [
      "Missing cities -7.2597, -34.9075\n",
      "Missing cities 20.5022, -10.0711\n",
      "Missing cities 22.6783, -3.9836\n"
     ]
    },
    {
     "output_type": "execute_result",
     "data": {
      "text/plain": [
       "    index             City      Lat       Lng  Max Temp  Humidity  Cloudiness  \\\n",
       "0      14       Aquidauana -20.4711  -55.7872     73.04        75           0   \n",
       "1      33         Hermanus -34.4187   19.2345     73.00        21           0   \n",
       "2      62        Busselton -33.6500  115.3333     71.01        57           0   \n",
       "3      96            Conde  -7.2597  -34.9075     73.40       100           0   \n",
       "4     105            Adrar  20.5022  -10.0711     70.12        24           0   \n",
       "5     119        Cape Town -33.9258   18.4232     73.00        71           0   \n",
       "6     183          Pitimbu  -7.4706  -34.8086     73.40       100           0   \n",
       "7     263             Doha  25.2867   51.5333     78.80        25           0   \n",
       "8     330         Belmonte -15.8631  -38.8828     71.60        88           0   \n",
       "9     340           Safaga  26.7292   33.9365     78.80        13           0   \n",
       "10    429  Lázaro Cárdenas  17.9583 -102.2000     75.11        68           0   \n",
       "11    460           Riyadh  24.6877   46.7219     71.60        26           0   \n",
       "12    467           Álamos  27.0167 -108.9333     77.00        47           0   \n",
       "13    535        Vredendal -31.6683   18.5012     77.38        18           0   \n",
       "14    547        Taoudenni  22.6783   -3.9836     79.45        16           0   \n",
       "\n",
       "    Wind Speed Country        Date                             Hotel Name  \n",
       "0         3.49      BR  1618714024                Portal Pantaneiro Hotel  \n",
       "1         3.00      ZA  1618714030                          Abalone Lodge  \n",
       "2         3.00      AU  1618714039                    The Sebel Busselton  \n",
       "3         5.75      BR  1618714050                                         \n",
       "4         9.60      MR  1618714053                                         \n",
       "5         2.30      ZA  1618713952  Atlanticview Cape Town Boutique Hotel  \n",
       "6         5.75      BR  1618714080                    Asenza Beach Resort  \n",
       "7         9.22      QA  1618714106                        The Curve Hotel  \n",
       "8         4.54      BR  1618714129                       Pousada do Diogo  \n",
       "9         8.05      EG  1618714132                  Lamar Resort Abu Soma  \n",
       "10        6.69      MX  1618714163           City Express Lázaro Cárdenas  \n",
       "11        3.44      SA  1618714174           Park Inn by Radisson, Riyadh  \n",
       "12        2.30      MX  1618714176    Hacienda De Los Santos Resort & Spa  \n",
       "13        8.99      ZA  1618714200                            River Lodge  \n",
       "14        9.95      ML  1618714205                                         "
      ],
      "text/html": "<div>\n<style scoped>\n    .dataframe tbody tr th:only-of-type {\n        vertical-align: middle;\n    }\n\n    .dataframe tbody tr th {\n        vertical-align: top;\n    }\n\n    .dataframe thead th {\n        text-align: right;\n    }\n</style>\n<table border=\"1\" class=\"dataframe\">\n  <thead>\n    <tr style=\"text-align: right;\">\n      <th></th>\n      <th>index</th>\n      <th>City</th>\n      <th>Lat</th>\n      <th>Lng</th>\n      <th>Max Temp</th>\n      <th>Humidity</th>\n      <th>Cloudiness</th>\n      <th>Wind Speed</th>\n      <th>Country</th>\n      <th>Date</th>\n      <th>Hotel Name</th>\n    </tr>\n  </thead>\n  <tbody>\n    <tr>\n      <th>0</th>\n      <td>14</td>\n      <td>Aquidauana</td>\n      <td>-20.4711</td>\n      <td>-55.7872</td>\n      <td>73.04</td>\n      <td>75</td>\n      <td>0</td>\n      <td>3.49</td>\n      <td>BR</td>\n      <td>1618714024</td>\n      <td>Portal Pantaneiro Hotel</td>\n    </tr>\n    <tr>\n      <th>1</th>\n      <td>33</td>\n      <td>Hermanus</td>\n      <td>-34.4187</td>\n      <td>19.2345</td>\n      <td>73.00</td>\n      <td>21</td>\n      <td>0</td>\n      <td>3.00</td>\n      <td>ZA</td>\n      <td>1618714030</td>\n      <td>Abalone Lodge</td>\n    </tr>\n    <tr>\n      <th>2</th>\n      <td>62</td>\n      <td>Busselton</td>\n      <td>-33.6500</td>\n      <td>115.3333</td>\n      <td>71.01</td>\n      <td>57</td>\n      <td>0</td>\n      <td>3.00</td>\n      <td>AU</td>\n      <td>1618714039</td>\n      <td>The Sebel Busselton</td>\n    </tr>\n    <tr>\n      <th>3</th>\n      <td>96</td>\n      <td>Conde</td>\n      <td>-7.2597</td>\n      <td>-34.9075</td>\n      <td>73.40</td>\n      <td>100</td>\n      <td>0</td>\n      <td>5.75</td>\n      <td>BR</td>\n      <td>1618714050</td>\n      <td></td>\n    </tr>\n    <tr>\n      <th>4</th>\n      <td>105</td>\n      <td>Adrar</td>\n      <td>20.5022</td>\n      <td>-10.0711</td>\n      <td>70.12</td>\n      <td>24</td>\n      <td>0</td>\n      <td>9.60</td>\n      <td>MR</td>\n      <td>1618714053</td>\n      <td></td>\n    </tr>\n    <tr>\n      <th>5</th>\n      <td>119</td>\n      <td>Cape Town</td>\n      <td>-33.9258</td>\n      <td>18.4232</td>\n      <td>73.00</td>\n      <td>71</td>\n      <td>0</td>\n      <td>2.30</td>\n      <td>ZA</td>\n      <td>1618713952</td>\n      <td>Atlanticview Cape Town Boutique Hotel</td>\n    </tr>\n    <tr>\n      <th>6</th>\n      <td>183</td>\n      <td>Pitimbu</td>\n      <td>-7.4706</td>\n      <td>-34.8086</td>\n      <td>73.40</td>\n      <td>100</td>\n      <td>0</td>\n      <td>5.75</td>\n      <td>BR</td>\n      <td>1618714080</td>\n      <td>Asenza Beach Resort</td>\n    </tr>\n    <tr>\n      <th>7</th>\n      <td>263</td>\n      <td>Doha</td>\n      <td>25.2867</td>\n      <td>51.5333</td>\n      <td>78.80</td>\n      <td>25</td>\n      <td>0</td>\n      <td>9.22</td>\n      <td>QA</td>\n      <td>1618714106</td>\n      <td>The Curve Hotel</td>\n    </tr>\n    <tr>\n      <th>8</th>\n      <td>330</td>\n      <td>Belmonte</td>\n      <td>-15.8631</td>\n      <td>-38.8828</td>\n      <td>71.60</td>\n      <td>88</td>\n      <td>0</td>\n      <td>4.54</td>\n      <td>BR</td>\n      <td>1618714129</td>\n      <td>Pousada do Diogo</td>\n    </tr>\n    <tr>\n      <th>9</th>\n      <td>340</td>\n      <td>Safaga</td>\n      <td>26.7292</td>\n      <td>33.9365</td>\n      <td>78.80</td>\n      <td>13</td>\n      <td>0</td>\n      <td>8.05</td>\n      <td>EG</td>\n      <td>1618714132</td>\n      <td>Lamar Resort Abu Soma</td>\n    </tr>\n    <tr>\n      <th>10</th>\n      <td>429</td>\n      <td>Lázaro Cárdenas</td>\n      <td>17.9583</td>\n      <td>-102.2000</td>\n      <td>75.11</td>\n      <td>68</td>\n      <td>0</td>\n      <td>6.69</td>\n      <td>MX</td>\n      <td>1618714163</td>\n      <td>City Express Lázaro Cárdenas</td>\n    </tr>\n    <tr>\n      <th>11</th>\n      <td>460</td>\n      <td>Riyadh</td>\n      <td>24.6877</td>\n      <td>46.7219</td>\n      <td>71.60</td>\n      <td>26</td>\n      <td>0</td>\n      <td>3.44</td>\n      <td>SA</td>\n      <td>1618714174</td>\n      <td>Park Inn by Radisson, Riyadh</td>\n    </tr>\n    <tr>\n      <th>12</th>\n      <td>467</td>\n      <td>Álamos</td>\n      <td>27.0167</td>\n      <td>-108.9333</td>\n      <td>77.00</td>\n      <td>47</td>\n      <td>0</td>\n      <td>2.30</td>\n      <td>MX</td>\n      <td>1618714176</td>\n      <td>Hacienda De Los Santos Resort &amp; Spa</td>\n    </tr>\n    <tr>\n      <th>13</th>\n      <td>535</td>\n      <td>Vredendal</td>\n      <td>-31.6683</td>\n      <td>18.5012</td>\n      <td>77.38</td>\n      <td>18</td>\n      <td>0</td>\n      <td>8.99</td>\n      <td>ZA</td>\n      <td>1618714200</td>\n      <td>River Lodge</td>\n    </tr>\n    <tr>\n      <th>14</th>\n      <td>547</td>\n      <td>Taoudenni</td>\n      <td>22.6783</td>\n      <td>-3.9836</td>\n      <td>79.45</td>\n      <td>16</td>\n      <td>0</td>\n      <td>9.95</td>\n      <td>ML</td>\n      <td>1618714205</td>\n      <td></td>\n    </tr>\n  </tbody>\n</table>\n</div>"
     },
     "metadata": {},
     "execution_count": 9
    }
   ],
   "source": [
    "hotel_df['Hotel Name'] = ''\n",
    "# params dictionary to update each iteration\n",
    "params = {\n",
    "    \"radius\": 5000,\n",
    "    \"types\": \"Hotel\",\n",
    "    \"keyword\": \"hotel\",\n",
    "    \"key\": g_key\n",
    "}\n",
    "\n",
    "# Use the lat/lng we recovered to identify airports\n",
    "for index, row in hotel_df.iterrows():\n",
    "    # get lat, lng from df\n",
    "    lat = row[\"Lat\"]\n",
    "    lng = row[\"Lng\"]\n",
    "    \n",
    "    # change location each iteration while leaving original params in place\n",
    "    params[\"location\"] = f\"{lat},{lng}\"\n",
    "\n",
    "        # Use the search term: \"International Airport\" and our lat/lng\n",
    "    base_url = \"https://maps.googleapis.com/maps/api/place/nearbysearch/json\"\n",
    "\n",
    "    # make request and print url\n",
    "    hotel = requests.get(base_url, params=params).json()\n",
    "   \n",
    "    try:\n",
    "        hotel_df.loc[index, 'Hotel Name'] = hotel[\"results\"][0][\"name\"]\n",
    "    except:\n",
    "        print(f'Missing cities {lat}, {lng}')\n",
    "hotel_df"
   ]
  },
  {
   "cell_type": "code",
   "execution_count": 10,
   "metadata": {},
   "outputs": [],
   "source": [
    "# NOTE: Do not change any of the code in this cell\n",
    "\n",
    "# Using the template add the hotel marks to the heatmap\n",
    "info_box_template = \"\"\"\n",
    "<dl>\n",
    "<dt>Name</dt><dd>{Hotel Name}</dd>\n",
    "<dt>City</dt><dd>{City}</dd>\n",
    "<dt>Country</dt><dd>{Country}</dd>\n",
    "</dl>\n",
    "\"\"\"\n",
    "# Store the DataFrame Row\n",
    "# NOTE: be sure to update with your DataFrame name\n",
    "hotel_info = [info_box_template.format(**row) for index, row in hotel_df.iterrows()]\n",
    "hotel_info\n",
    "locations = hotel_df[[\"Lat\", \"Lng\"]]"
   ]
  },
  {
   "cell_type": "code",
   "execution_count": 11,
   "metadata": {},
   "outputs": [
    {
     "output_type": "display_data",
     "data": {
      "text/plain": "Figure(layout=FigureLayout(height='420px'))",
      "application/vnd.jupyter.widget-view+json": {
       "version_major": 2,
       "version_minor": 0,
       "model_id": "5e059dd7266e40bba54467610e08b710"
      }
     },
     "metadata": {}
    }
   ],
   "source": [
    "# Add marker layer ontop of heat map\n",
    "locations1 = cities_df[['Lat', 'Lng']].astype(float)\n",
    "humidity1 = cities_df['Humidity'].astype(float)\n",
    "# hotel1 = hotel_df('Hotel Name').astype(str)\n",
    "figure_layout = {\n",
    "    'width': '1000px',\n",
    "    'height': '700px',\n",
    "    'border': '1px solid black',\n",
    "    'padding': '1px',\n",
    "    'margin': '0 auto 0 auto'\n",
    "    }\n",
    "fig = gmaps.figure(figure_layout)\n",
    "\n",
    "heat_layer = gmaps.heatmap_layer(locations1, weights=humidity1)\n",
    "marker = gmaps.marker_layer(locations, info_box_content=[f\"Poverty Rate: {hotel}\" for hotel in hotel_info])\n",
    "\n",
    "fig.add_layer(marker)\n",
    "fig.add_layer(heat_layer)\n",
    "fig\n",
    "\n",
    "# Display figure\n"
   ]
  },
  {
   "cell_type": "code",
   "execution_count": null,
   "metadata": {},
   "outputs": [],
   "source": []
  }
 ],
 "metadata": {
  "kernelspec": {
   "name": "python379jvsc74a57bd0ac5a4a8be39a6f36cb398e11c49d1d11aa42d9028028208279e8ac6ab225301c",
   "display_name": "Python 3.7.9 64-bit ('PythonData': conda)"
  },
  "language_info": {
   "codemirror_mode": {
    "name": "ipython",
    "version": 3
   },
   "file_extension": ".py",
   "mimetype": "text/x-python",
   "name": "python",
   "nbconvert_exporter": "python",
   "pygments_lexer": "ipython3",
   "version": "3.7.9"
  },
  "latex_envs": {
   "LaTeX_envs_menu_present": true,
   "autoclose": false,
   "autocomplete": true,
   "bibliofile": "biblio.bib",
   "cite_by": "apalike",
   "current_citInitial": 1,
   "eqLabelWithNumbers": true,
   "eqNumInitial": 1,
   "hotkeys": {
    "equation": "Ctrl-E",
    "itemize": "Ctrl-I"
   },
   "labels_anchors": false,
   "latex_user_defs": false,
   "report_style_numbering": false,
   "user_envs_cfg": false
  }
 },
 "nbformat": 4,
 "nbformat_minor": 4
}