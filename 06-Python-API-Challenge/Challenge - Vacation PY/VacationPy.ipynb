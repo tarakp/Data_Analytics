{
 "cells": [
  {
   "cell_type": "markdown",
   "metadata": {},
   "source": [
    "# VacationPy\n",
    "----\n",
    "\n",
    "#### Note\n",
    "* Keep an eye on your API usage. Use https://developers.google.com/maps/reporting/gmp-reporting as reference for how to monitor your usage and billing.\n",
    "\n",
    "* Instructions have been included for each segment. You do not have to follow them exactly, but they are included to help you think through the steps."
   ]
  },
  {
   "cell_type": "code",
   "execution_count": 1,
   "metadata": {},
   "outputs": [],
   "source": [
    "# Dependencies and Setup\n",
    "import matplotlib.pyplot as plt\n",
    "import pandas as pd\n",
    "import numpy as np\n",
    "import requests\n",
    "import gmaps\n",
    "import os\n",
    "\n",
    "# Import API key\n",
    "from api_keys import g_key"
   ]
  },
  {
   "cell_type": "markdown",
   "metadata": {},
   "source": [
    "### Store Part I results into DataFrame\n",
    "* Load the csv exported in Part I to a DataFrame"
   ]
  },
  {
   "cell_type": "code",
   "execution_count": 2,
   "metadata": {},
   "outputs": [
    {
     "output_type": "execute_result",
     "data": {
      "text/plain": [
       "               City      Lat       Lng  Max Temp  Humidity  Cloudiness  \\\n",
       "0           Bubaque  11.2833  -15.8333     76.10        73          81   \n",
       "1    Chippewa Falls  44.9369  -91.3929     50.00        40          75   \n",
       "2              Lebu -37.6167  -73.6500     55.24        88         100   \n",
       "3    Lakes Entrance -37.8811  147.9810     68.00        53           8   \n",
       "4            Atuona  -9.8000 -139.0333     80.74        74          36   \n",
       "..              ...      ...       ...       ...       ...         ...   \n",
       "559        Misratah  32.3754   15.0925     60.66        77         100   \n",
       "560       Cleveland  41.4995  -81.6954     39.20        81          40   \n",
       "561      Nkhotakota -12.9274   34.2961     69.17        83          79   \n",
       "562       Churapcha  62.0025  132.4325     25.47        64         100   \n",
       "563         Sørland  67.6670   12.6934     41.45        70          90   \n",
       "\n",
       "     Wind Speed Country        Date  \n",
       "0          5.93      GW  1618718831  \n",
       "1          3.44      US  1618718402  \n",
       "2          7.27      CL  1618718398  \n",
       "3          3.00      AU  1618718832  \n",
       "4         18.95      PF  1618718348  \n",
       "..          ...     ...         ...  \n",
       "559        9.60      LY  1618719005  \n",
       "560        5.75      US  1618718882  \n",
       "561       12.75      MW  1618719005  \n",
       "562       12.91      RU  1618719006  \n",
       "563        9.42      NO  1618719006  \n",
       "\n",
       "[564 rows x 9 columns]"
      ],
      "text/html": "<div>\n<style scoped>\n    .dataframe tbody tr th:only-of-type {\n        vertical-align: middle;\n    }\n\n    .dataframe tbody tr th {\n        vertical-align: top;\n    }\n\n    .dataframe thead th {\n        text-align: right;\n    }\n</style>\n<table border=\"1\" class=\"dataframe\">\n  <thead>\n    <tr style=\"text-align: right;\">\n      <th></th>\n      <th>City</th>\n      <th>Lat</th>\n      <th>Lng</th>\n      <th>Max Temp</th>\n      <th>Humidity</th>\n      <th>Cloudiness</th>\n      <th>Wind Speed</th>\n      <th>Country</th>\n      <th>Date</th>\n    </tr>\n  </thead>\n  <tbody>\n    <tr>\n      <th>0</th>\n      <td>Bubaque</td>\n      <td>11.2833</td>\n      <td>-15.8333</td>\n      <td>76.10</td>\n      <td>73</td>\n      <td>81</td>\n      <td>5.93</td>\n      <td>GW</td>\n      <td>1618718831</td>\n    </tr>\n    <tr>\n      <th>1</th>\n      <td>Chippewa Falls</td>\n      <td>44.9369</td>\n      <td>-91.3929</td>\n      <td>50.00</td>\n      <td>40</td>\n      <td>75</td>\n      <td>3.44</td>\n      <td>US</td>\n      <td>1618718402</td>\n    </tr>\n    <tr>\n      <th>2</th>\n      <td>Lebu</td>\n      <td>-37.6167</td>\n      <td>-73.6500</td>\n      <td>55.24</td>\n      <td>88</td>\n      <td>100</td>\n      <td>7.27</td>\n      <td>CL</td>\n      <td>1618718398</td>\n    </tr>\n    <tr>\n      <th>3</th>\n      <td>Lakes Entrance</td>\n      <td>-37.8811</td>\n      <td>147.9810</td>\n      <td>68.00</td>\n      <td>53</td>\n      <td>8</td>\n      <td>3.00</td>\n      <td>AU</td>\n      <td>1618718832</td>\n    </tr>\n    <tr>\n      <th>4</th>\n      <td>Atuona</td>\n      <td>-9.8000</td>\n      <td>-139.0333</td>\n      <td>80.74</td>\n      <td>74</td>\n      <td>36</td>\n      <td>18.95</td>\n      <td>PF</td>\n      <td>1618718348</td>\n    </tr>\n    <tr>\n      <th>...</th>\n      <td>...</td>\n      <td>...</td>\n      <td>...</td>\n      <td>...</td>\n      <td>...</td>\n      <td>...</td>\n      <td>...</td>\n      <td>...</td>\n      <td>...</td>\n    </tr>\n    <tr>\n      <th>559</th>\n      <td>Misratah</td>\n      <td>32.3754</td>\n      <td>15.0925</td>\n      <td>60.66</td>\n      <td>77</td>\n      <td>100</td>\n      <td>9.60</td>\n      <td>LY</td>\n      <td>1618719005</td>\n    </tr>\n    <tr>\n      <th>560</th>\n      <td>Cleveland</td>\n      <td>41.4995</td>\n      <td>-81.6954</td>\n      <td>39.20</td>\n      <td>81</td>\n      <td>40</td>\n      <td>5.75</td>\n      <td>US</td>\n      <td>1618718882</td>\n    </tr>\n    <tr>\n      <th>561</th>\n      <td>Nkhotakota</td>\n      <td>-12.9274</td>\n      <td>34.2961</td>\n      <td>69.17</td>\n      <td>83</td>\n      <td>79</td>\n      <td>12.75</td>\n      <td>MW</td>\n      <td>1618719005</td>\n    </tr>\n    <tr>\n      <th>562</th>\n      <td>Churapcha</td>\n      <td>62.0025</td>\n      <td>132.4325</td>\n      <td>25.47</td>\n      <td>64</td>\n      <td>100</td>\n      <td>12.91</td>\n      <td>RU</td>\n      <td>1618719006</td>\n    </tr>\n    <tr>\n      <th>563</th>\n      <td>Sørland</td>\n      <td>67.6670</td>\n      <td>12.6934</td>\n      <td>41.45</td>\n      <td>70</td>\n      <td>90</td>\n      <td>9.42</td>\n      <td>NO</td>\n      <td>1618719006</td>\n    </tr>\n  </tbody>\n</table>\n<p>564 rows × 9 columns</p>\n</div>"
     },
     "metadata": {},
     "execution_count": 2
    }
   ],
   "source": [
    "\n",
    "cities_df = pd.read_csv('../output_data/cities_t.csv')\n",
    "cities_df"
   ]
  },
  {
   "cell_type": "markdown",
   "metadata": {},
   "source": [
    "### Humidity Heatmap\n",
    "* Configure gmaps.\n",
    "* Use the Lat and Lng as locations and Humidity as the weight.\n",
    "* Add Heatmap layer to map."
   ]
  },
  {
   "cell_type": "code",
   "execution_count": 3,
   "metadata": {},
   "outputs": [],
   "source": [
    "gmaps.configure(api_key=g_key)\n",
    "locations = cities_df[['Lat', 'Lng']].astype(float)\n",
    "humidity = cities_df['Humidity'].astype(float)"
   ]
  },
  {
   "cell_type": "code",
   "execution_count": 4,
   "metadata": {},
   "outputs": [
    {
     "output_type": "display_data",
     "data": {
      "text/plain": "Figure(layout=FigureLayout(height='420px'))",
      "application/vnd.jupyter.widget-view+json": {
       "version_major": 2,
       "version_minor": 0,
       "model_id": "c4f751dc924a47bea7f3605aee7ef39f"
      }
     },
     "metadata": {}
    }
   ],
   "source": [
    "# Create a poverty Heatmap layer\n",
    "figure_layout = {\n",
    "    'width': '1000px',\n",
    "    'height': '700px',\n",
    "    'border': '1px solid black',\n",
    "    'padding': '1px',\n",
    "    'margin': '0 auto 0 auto'\n",
    "    }\n",
    "fig = gmaps.figure(figure_layout)\n",
    "\n",
    "heat_layer = gmaps.heatmap_layer(locations, weights=humidity)\n",
    "\n",
    "fig.add_layer(heat_layer)\n",
    "\n",
    "fig"
   ]
  },
  {
   "cell_type": "markdown",
   "metadata": {},
   "source": [
    "### Create new DataFrame fitting weather criteria\n",
    "* Narrow down the cities to fit weather conditions.\n",
    "* Drop any rows will null values."
   ]
  },
  {
   "cell_type": "code",
   "execution_count": 11,
   "metadata": {},
   "outputs": [
    {
     "output_type": "execute_result",
     "data": {
      "text/plain": [
       "                   City      Lat       Lng  Max Temp  Humidity  Cloudiness  \\\n",
       "33            Cape Town -33.9258   18.4232     73.99        76           0   \n",
       "37            Busselton -33.6500  115.3333     75.99        48           0   \n",
       "66             Hermanus -34.4187   19.2345     73.99        19           0   \n",
       "88              Salalah  17.0151   54.0924     77.00        50           0   \n",
       "97            Esperance -33.8667  121.9000     71.60        46           0   \n",
       "159           Boa Vista   2.8197  -60.6733     78.80        78           0   \n",
       "163  Acapulco de Juárez  16.8634  -99.8901     77.13        70           0   \n",
       "311           Etchoropo  26.7667 -109.6667     73.99        52           0   \n",
       "329     Muhafazat Lahij  13.1667   44.5833     73.15        70           0   \n",
       "403             Baracoa  20.3467  -74.4958     75.31        80           0   \n",
       "422           Iranshahr  27.2025   60.6848     73.40        20           0   \n",
       "544                Atar  20.5169  -13.0499     71.38        27           0   \n",
       "\n",
       "     Wind Speed Country        Date  \n",
       "33         1.14      ZA  1618718213  \n",
       "37         1.99      AU  1618718379  \n",
       "66         8.21      ZA  1618718339  \n",
       "88         3.44      OM  1618718335  \n",
       "97         4.61      AU  1618718858  \n",
       "159        5.75      BR  1618718668  \n",
       "163        7.87      MX  1618718598  \n",
       "311        6.69      MX  1618718923  \n",
       "329        6.40      YE  1618718928  \n",
       "403        5.46      CU  1618718952  \n",
       "422        6.91      IR  1618718377  \n",
       "544        8.25      MR  1618719000  "
      ],
      "text/html": "<div>\n<style scoped>\n    .dataframe tbody tr th:only-of-type {\n        vertical-align: middle;\n    }\n\n    .dataframe tbody tr th {\n        vertical-align: top;\n    }\n\n    .dataframe thead th {\n        text-align: right;\n    }\n</style>\n<table border=\"1\" class=\"dataframe\">\n  <thead>\n    <tr style=\"text-align: right;\">\n      <th></th>\n      <th>City</th>\n      <th>Lat</th>\n      <th>Lng</th>\n      <th>Max Temp</th>\n      <th>Humidity</th>\n      <th>Cloudiness</th>\n      <th>Wind Speed</th>\n      <th>Country</th>\n      <th>Date</th>\n    </tr>\n  </thead>\n  <tbody>\n    <tr>\n      <th>33</th>\n      <td>Cape Town</td>\n      <td>-33.9258</td>\n      <td>18.4232</td>\n      <td>73.99</td>\n      <td>76</td>\n      <td>0</td>\n      <td>1.14</td>\n      <td>ZA</td>\n      <td>1618718213</td>\n    </tr>\n    <tr>\n      <th>37</th>\n      <td>Busselton</td>\n      <td>-33.6500</td>\n      <td>115.3333</td>\n      <td>75.99</td>\n      <td>48</td>\n      <td>0</td>\n      <td>1.99</td>\n      <td>AU</td>\n      <td>1618718379</td>\n    </tr>\n    <tr>\n      <th>66</th>\n      <td>Hermanus</td>\n      <td>-34.4187</td>\n      <td>19.2345</td>\n      <td>73.99</td>\n      <td>19</td>\n      <td>0</td>\n      <td>8.21</td>\n      <td>ZA</td>\n      <td>1618718339</td>\n    </tr>\n    <tr>\n      <th>88</th>\n      <td>Salalah</td>\n      <td>17.0151</td>\n      <td>54.0924</td>\n      <td>77.00</td>\n      <td>50</td>\n      <td>0</td>\n      <td>3.44</td>\n      <td>OM</td>\n      <td>1618718335</td>\n    </tr>\n    <tr>\n      <th>97</th>\n      <td>Esperance</td>\n      <td>-33.8667</td>\n      <td>121.9000</td>\n      <td>71.60</td>\n      <td>46</td>\n      <td>0</td>\n      <td>4.61</td>\n      <td>AU</td>\n      <td>1618718858</td>\n    </tr>\n    <tr>\n      <th>159</th>\n      <td>Boa Vista</td>\n      <td>2.8197</td>\n      <td>-60.6733</td>\n      <td>78.80</td>\n      <td>78</td>\n      <td>0</td>\n      <td>5.75</td>\n      <td>BR</td>\n      <td>1618718668</td>\n    </tr>\n    <tr>\n      <th>163</th>\n      <td>Acapulco de Juárez</td>\n      <td>16.8634</td>\n      <td>-99.8901</td>\n      <td>77.13</td>\n      <td>70</td>\n      <td>0</td>\n      <td>7.87</td>\n      <td>MX</td>\n      <td>1618718598</td>\n    </tr>\n    <tr>\n      <th>311</th>\n      <td>Etchoropo</td>\n      <td>26.7667</td>\n      <td>-109.6667</td>\n      <td>73.99</td>\n      <td>52</td>\n      <td>0</td>\n      <td>6.69</td>\n      <td>MX</td>\n      <td>1618718923</td>\n    </tr>\n    <tr>\n      <th>329</th>\n      <td>Muhafazat Lahij</td>\n      <td>13.1667</td>\n      <td>44.5833</td>\n      <td>73.15</td>\n      <td>70</td>\n      <td>0</td>\n      <td>6.40</td>\n      <td>YE</td>\n      <td>1618718928</td>\n    </tr>\n    <tr>\n      <th>403</th>\n      <td>Baracoa</td>\n      <td>20.3467</td>\n      <td>-74.4958</td>\n      <td>75.31</td>\n      <td>80</td>\n      <td>0</td>\n      <td>5.46</td>\n      <td>CU</td>\n      <td>1618718952</td>\n    </tr>\n    <tr>\n      <th>422</th>\n      <td>Iranshahr</td>\n      <td>27.2025</td>\n      <td>60.6848</td>\n      <td>73.40</td>\n      <td>20</td>\n      <td>0</td>\n      <td>6.91</td>\n      <td>IR</td>\n      <td>1618718377</td>\n    </tr>\n    <tr>\n      <th>544</th>\n      <td>Atar</td>\n      <td>20.5169</td>\n      <td>-13.0499</td>\n      <td>71.38</td>\n      <td>27</td>\n      <td>0</td>\n      <td>8.25</td>\n      <td>MR</td>\n      <td>1618719000</td>\n    </tr>\n  </tbody>\n</table>\n</div>"
     },
     "metadata": {},
     "execution_count": 11
    }
   ],
   "source": [
    "cities_temp_df = cities_df[(cities_df['Max Temp'] >= 70) & (cities_df['Max Temp'] <= 80)]\n",
    "cities_temp_ws_df = cities_temp_df[(cities_temp_df['Wind Speed'] < 10) & (cities_temp_df['Cloudiness'] == 0)]\n",
    "# cities_temp_df.to_csv('../output_data/cities_maxtemp.csv', index=False)\n",
    "cities_temp_ws_df"
   ]
  },
  {
   "cell_type": "markdown",
   "metadata": {},
   "source": [
    "### Hotel Map\n",
    "* Store into variable named `hotel_df`.\n",
    "* Add a \"Hotel Name\" column to the DataFrame.\n",
    "* Set parameters to search for hotels with 5000 meters.\n",
    "* Hit the Google Places API for each city's coordinates.\n",
    "* Store the first Hotel result into the DataFrame.\n",
    "* Plot markers on top of the heatmap."
   ]
  },
  {
   "cell_type": "code",
   "execution_count": 12,
   "metadata": {},
   "outputs": [
    {
     "output_type": "execute_result",
     "data": {
      "text/plain": [
       "    index                City      Lat       Lng  Max Temp  Humidity  \\\n",
       "0      33           Cape Town -33.9258   18.4232     73.99        76   \n",
       "1      37           Busselton -33.6500  115.3333     75.99        48   \n",
       "2      66            Hermanus -34.4187   19.2345     73.99        19   \n",
       "3      88             Salalah  17.0151   54.0924     77.00        50   \n",
       "4      97           Esperance -33.8667  121.9000     71.60        46   \n",
       "5     159           Boa Vista   2.8197  -60.6733     78.80        78   \n",
       "6     163  Acapulco de Juárez  16.8634  -99.8901     77.13        70   \n",
       "7     311           Etchoropo  26.7667 -109.6667     73.99        52   \n",
       "8     329     Muhafazat Lahij  13.1667   44.5833     73.15        70   \n",
       "9     403             Baracoa  20.3467  -74.4958     75.31        80   \n",
       "10    422           Iranshahr  27.2025   60.6848     73.40        20   \n",
       "11    544                Atar  20.5169  -13.0499     71.38        27   \n",
       "\n",
       "    Cloudiness  Wind Speed Country        Date  \n",
       "0            0        1.14      ZA  1618718213  \n",
       "1            0        1.99      AU  1618718379  \n",
       "2            0        8.21      ZA  1618718339  \n",
       "3            0        3.44      OM  1618718335  \n",
       "4            0        4.61      AU  1618718858  \n",
       "5            0        5.75      BR  1618718668  \n",
       "6            0        7.87      MX  1618718598  \n",
       "7            0        6.69      MX  1618718923  \n",
       "8            0        6.40      YE  1618718928  \n",
       "9            0        5.46      CU  1618718952  \n",
       "10           0        6.91      IR  1618718377  \n",
       "11           0        8.25      MR  1618719000  "
      ],
      "text/html": "<div>\n<style scoped>\n    .dataframe tbody tr th:only-of-type {\n        vertical-align: middle;\n    }\n\n    .dataframe tbody tr th {\n        vertical-align: top;\n    }\n\n    .dataframe thead th {\n        text-align: right;\n    }\n</style>\n<table border=\"1\" class=\"dataframe\">\n  <thead>\n    <tr style=\"text-align: right;\">\n      <th></th>\n      <th>index</th>\n      <th>City</th>\n      <th>Lat</th>\n      <th>Lng</th>\n      <th>Max Temp</th>\n      <th>Humidity</th>\n      <th>Cloudiness</th>\n      <th>Wind Speed</th>\n      <th>Country</th>\n      <th>Date</th>\n    </tr>\n  </thead>\n  <tbody>\n    <tr>\n      <th>0</th>\n      <td>33</td>\n      <td>Cape Town</td>\n      <td>-33.9258</td>\n      <td>18.4232</td>\n      <td>73.99</td>\n      <td>76</td>\n      <td>0</td>\n      <td>1.14</td>\n      <td>ZA</td>\n      <td>1618718213</td>\n    </tr>\n    <tr>\n      <th>1</th>\n      <td>37</td>\n      <td>Busselton</td>\n      <td>-33.6500</td>\n      <td>115.3333</td>\n      <td>75.99</td>\n      <td>48</td>\n      <td>0</td>\n      <td>1.99</td>\n      <td>AU</td>\n      <td>1618718379</td>\n    </tr>\n    <tr>\n      <th>2</th>\n      <td>66</td>\n      <td>Hermanus</td>\n      <td>-34.4187</td>\n      <td>19.2345</td>\n      <td>73.99</td>\n      <td>19</td>\n      <td>0</td>\n      <td>8.21</td>\n      <td>ZA</td>\n      <td>1618718339</td>\n    </tr>\n    <tr>\n      <th>3</th>\n      <td>88</td>\n      <td>Salalah</td>\n      <td>17.0151</td>\n      <td>54.0924</td>\n      <td>77.00</td>\n      <td>50</td>\n      <td>0</td>\n      <td>3.44</td>\n      <td>OM</td>\n      <td>1618718335</td>\n    </tr>\n    <tr>\n      <th>4</th>\n      <td>97</td>\n      <td>Esperance</td>\n      <td>-33.8667</td>\n      <td>121.9000</td>\n      <td>71.60</td>\n      <td>46</td>\n      <td>0</td>\n      <td>4.61</td>\n      <td>AU</td>\n      <td>1618718858</td>\n    </tr>\n    <tr>\n      <th>5</th>\n      <td>159</td>\n      <td>Boa Vista</td>\n      <td>2.8197</td>\n      <td>-60.6733</td>\n      <td>78.80</td>\n      <td>78</td>\n      <td>0</td>\n      <td>5.75</td>\n      <td>BR</td>\n      <td>1618718668</td>\n    </tr>\n    <tr>\n      <th>6</th>\n      <td>163</td>\n      <td>Acapulco de Juárez</td>\n      <td>16.8634</td>\n      <td>-99.8901</td>\n      <td>77.13</td>\n      <td>70</td>\n      <td>0</td>\n      <td>7.87</td>\n      <td>MX</td>\n      <td>1618718598</td>\n    </tr>\n    <tr>\n      <th>7</th>\n      <td>311</td>\n      <td>Etchoropo</td>\n      <td>26.7667</td>\n      <td>-109.6667</td>\n      <td>73.99</td>\n      <td>52</td>\n      <td>0</td>\n      <td>6.69</td>\n      <td>MX</td>\n      <td>1618718923</td>\n    </tr>\n    <tr>\n      <th>8</th>\n      <td>329</td>\n      <td>Muhafazat Lahij</td>\n      <td>13.1667</td>\n      <td>44.5833</td>\n      <td>73.15</td>\n      <td>70</td>\n      <td>0</td>\n      <td>6.40</td>\n      <td>YE</td>\n      <td>1618718928</td>\n    </tr>\n    <tr>\n      <th>9</th>\n      <td>403</td>\n      <td>Baracoa</td>\n      <td>20.3467</td>\n      <td>-74.4958</td>\n      <td>75.31</td>\n      <td>80</td>\n      <td>0</td>\n      <td>5.46</td>\n      <td>CU</td>\n      <td>1618718952</td>\n    </tr>\n    <tr>\n      <th>10</th>\n      <td>422</td>\n      <td>Iranshahr</td>\n      <td>27.2025</td>\n      <td>60.6848</td>\n      <td>73.40</td>\n      <td>20</td>\n      <td>0</td>\n      <td>6.91</td>\n      <td>IR</td>\n      <td>1618718377</td>\n    </tr>\n    <tr>\n      <th>11</th>\n      <td>544</td>\n      <td>Atar</td>\n      <td>20.5169</td>\n      <td>-13.0499</td>\n      <td>71.38</td>\n      <td>27</td>\n      <td>0</td>\n      <td>8.25</td>\n      <td>MR</td>\n      <td>1618719000</td>\n    </tr>\n  </tbody>\n</table>\n</div>"
     },
     "metadata": {},
     "execution_count": 12
    }
   ],
   "source": [
    "hotel_df = cities_temp_ws_df.reset_index()\n",
    "hotel_df"
   ]
  },
  {
   "cell_type": "code",
   "execution_count": 13,
   "metadata": {},
   "outputs": [
    {
     "output_type": "execute_result",
     "data": {
      "text/plain": [
       "'Royal Tours Permanent Camp'"
      ]
     },
     "metadata": {},
     "execution_count": 13
    }
   ],
   "source": [
    "hotel_df['Hotel Name'] = ''\n",
    "# params dictionary to update each iteration\n",
    "params = {\n",
    "    \"location\": '25.0213, 37.2685',\n",
    "    \"radius\": 100000,\n",
    "    \"types\": \"Hotel\",\n",
    "    \"keyword\": \"hotel\",\n",
    "    \"key\": g_key\n",
    "}\n",
    "\n",
    "base_url = \"https://maps.googleapis.com/maps/api/place/nearbysearch/json\"\n",
    "\n",
    "    # make request and print url\n",
    "hotel = requests.get(base_url, params=params).json()\n",
    "hotel[\"results\"][0][\"name\"]\n",
    "\n",
    "\n"
   ]
  },
  {
   "cell_type": "code",
   "execution_count": 14,
   "metadata": {},
   "outputs": [
    {
     "output_type": "stream",
     "name": "stdout",
     "text": [
      "Missing cities 26.7667, -109.6667\n",
      "Missing cities 13.1667, 44.5833\n",
      "Missing cities 20.5169, -13.0499\n"
     ]
    },
    {
     "output_type": "execute_result",
     "data": {
      "text/plain": [
       "    index                City      Lat       Lng  Max Temp  Humidity  \\\n",
       "0      33           Cape Town -33.9258   18.4232     73.99        76   \n",
       "1      37           Busselton -33.6500  115.3333     75.99        48   \n",
       "2      66            Hermanus -34.4187   19.2345     73.99        19   \n",
       "3      88             Salalah  17.0151   54.0924     77.00        50   \n",
       "4      97           Esperance -33.8667  121.9000     71.60        46   \n",
       "5     159           Boa Vista   2.8197  -60.6733     78.80        78   \n",
       "6     163  Acapulco de Juárez  16.8634  -99.8901     77.13        70   \n",
       "7     311           Etchoropo  26.7667 -109.6667     73.99        52   \n",
       "8     329     Muhafazat Lahij  13.1667   44.5833     73.15        70   \n",
       "9     403             Baracoa  20.3467  -74.4958     75.31        80   \n",
       "10    422           Iranshahr  27.2025   60.6848     73.40        20   \n",
       "11    544                Atar  20.5169  -13.0499     71.38        27   \n",
       "\n",
       "    Cloudiness  Wind Speed Country        Date  \\\n",
       "0            0        1.14      ZA  1618718213   \n",
       "1            0        1.99      AU  1618718379   \n",
       "2            0        8.21      ZA  1618718339   \n",
       "3            0        3.44      OM  1618718335   \n",
       "4            0        4.61      AU  1618718858   \n",
       "5            0        5.75      BR  1618718668   \n",
       "6            0        7.87      MX  1618718598   \n",
       "7            0        6.69      MX  1618718923   \n",
       "8            0        6.40      YE  1618718928   \n",
       "9            0        5.46      CU  1618718952   \n",
       "10           0        6.91      IR  1618718377   \n",
       "11           0        8.25      MR  1618719000   \n",
       "\n",
       "                               Hotel Name  \n",
       "0   Atlanticview Cape Town Boutique Hotel  \n",
       "1                     The Sebel Busselton  \n",
       "2                     Harbour House Hotel  \n",
       "3                     HYATT SALALAH HOTEL  \n",
       "4                        The Jetty Resort  \n",
       "5                Hotel Orla do Rio Branco  \n",
       "6            Dreams Acapulco Resort & Spa  \n",
       "7                                          \n",
       "8                                          \n",
       "9                       Hotel Porto Santo  \n",
       "10                         هتل خنونه سرزه  \n",
       "11                                         "
      ],
      "text/html": "<div>\n<style scoped>\n    .dataframe tbody tr th:only-of-type {\n        vertical-align: middle;\n    }\n\n    .dataframe tbody tr th {\n        vertical-align: top;\n    }\n\n    .dataframe thead th {\n        text-align: right;\n    }\n</style>\n<table border=\"1\" class=\"dataframe\">\n  <thead>\n    <tr style=\"text-align: right;\">\n      <th></th>\n      <th>index</th>\n      <th>City</th>\n      <th>Lat</th>\n      <th>Lng</th>\n      <th>Max Temp</th>\n      <th>Humidity</th>\n      <th>Cloudiness</th>\n      <th>Wind Speed</th>\n      <th>Country</th>\n      <th>Date</th>\n      <th>Hotel Name</th>\n    </tr>\n  </thead>\n  <tbody>\n    <tr>\n      <th>0</th>\n      <td>33</td>\n      <td>Cape Town</td>\n      <td>-33.9258</td>\n      <td>18.4232</td>\n      <td>73.99</td>\n      <td>76</td>\n      <td>0</td>\n      <td>1.14</td>\n      <td>ZA</td>\n      <td>1618718213</td>\n      <td>Atlanticview Cape Town Boutique Hotel</td>\n    </tr>\n    <tr>\n      <th>1</th>\n      <td>37</td>\n      <td>Busselton</td>\n      <td>-33.6500</td>\n      <td>115.3333</td>\n      <td>75.99</td>\n      <td>48</td>\n      <td>0</td>\n      <td>1.99</td>\n      <td>AU</td>\n      <td>1618718379</td>\n      <td>The Sebel Busselton</td>\n    </tr>\n    <tr>\n      <th>2</th>\n      <td>66</td>\n      <td>Hermanus</td>\n      <td>-34.4187</td>\n      <td>19.2345</td>\n      <td>73.99</td>\n      <td>19</td>\n      <td>0</td>\n      <td>8.21</td>\n      <td>ZA</td>\n      <td>1618718339</td>\n      <td>Harbour House Hotel</td>\n    </tr>\n    <tr>\n      <th>3</th>\n      <td>88</td>\n      <td>Salalah</td>\n      <td>17.0151</td>\n      <td>54.0924</td>\n      <td>77.00</td>\n      <td>50</td>\n      <td>0</td>\n      <td>3.44</td>\n      <td>OM</td>\n      <td>1618718335</td>\n      <td>HYATT SALALAH HOTEL</td>\n    </tr>\n    <tr>\n      <th>4</th>\n      <td>97</td>\n      <td>Esperance</td>\n      <td>-33.8667</td>\n      <td>121.9000</td>\n      <td>71.60</td>\n      <td>46</td>\n      <td>0</td>\n      <td>4.61</td>\n      <td>AU</td>\n      <td>1618718858</td>\n      <td>The Jetty Resort</td>\n    </tr>\n    <tr>\n      <th>5</th>\n      <td>159</td>\n      <td>Boa Vista</td>\n      <td>2.8197</td>\n      <td>-60.6733</td>\n      <td>78.80</td>\n      <td>78</td>\n      <td>0</td>\n      <td>5.75</td>\n      <td>BR</td>\n      <td>1618718668</td>\n      <td>Hotel Orla do Rio Branco</td>\n    </tr>\n    <tr>\n      <th>6</th>\n      <td>163</td>\n      <td>Acapulco de Juárez</td>\n      <td>16.8634</td>\n      <td>-99.8901</td>\n      <td>77.13</td>\n      <td>70</td>\n      <td>0</td>\n      <td>7.87</td>\n      <td>MX</td>\n      <td>1618718598</td>\n      <td>Dreams Acapulco Resort &amp; Spa</td>\n    </tr>\n    <tr>\n      <th>7</th>\n      <td>311</td>\n      <td>Etchoropo</td>\n      <td>26.7667</td>\n      <td>-109.6667</td>\n      <td>73.99</td>\n      <td>52</td>\n      <td>0</td>\n      <td>6.69</td>\n      <td>MX</td>\n      <td>1618718923</td>\n      <td></td>\n    </tr>\n    <tr>\n      <th>8</th>\n      <td>329</td>\n      <td>Muhafazat Lahij</td>\n      <td>13.1667</td>\n      <td>44.5833</td>\n      <td>73.15</td>\n      <td>70</td>\n      <td>0</td>\n      <td>6.40</td>\n      <td>YE</td>\n      <td>1618718928</td>\n      <td></td>\n    </tr>\n    <tr>\n      <th>9</th>\n      <td>403</td>\n      <td>Baracoa</td>\n      <td>20.3467</td>\n      <td>-74.4958</td>\n      <td>75.31</td>\n      <td>80</td>\n      <td>0</td>\n      <td>5.46</td>\n      <td>CU</td>\n      <td>1618718952</td>\n      <td>Hotel Porto Santo</td>\n    </tr>\n    <tr>\n      <th>10</th>\n      <td>422</td>\n      <td>Iranshahr</td>\n      <td>27.2025</td>\n      <td>60.6848</td>\n      <td>73.40</td>\n      <td>20</td>\n      <td>0</td>\n      <td>6.91</td>\n      <td>IR</td>\n      <td>1618718377</td>\n      <td>هتل خنونه سرزه</td>\n    </tr>\n    <tr>\n      <th>11</th>\n      <td>544</td>\n      <td>Atar</td>\n      <td>20.5169</td>\n      <td>-13.0499</td>\n      <td>71.38</td>\n      <td>27</td>\n      <td>0</td>\n      <td>8.25</td>\n      <td>MR</td>\n      <td>1618719000</td>\n      <td></td>\n    </tr>\n  </tbody>\n</table>\n</div>"
     },
     "metadata": {},
     "execution_count": 14
    }
   ],
   "source": [
    "hotel_df['Hotel Name'] = ''\n",
    "# params dictionary to update each iteration\n",
    "params = {\n",
    "    \"radius\": 5000,\n",
    "    \"types\": \"Hotel\",\n",
    "    \"keyword\": \"hotel\",\n",
    "    \"key\": g_key\n",
    "}\n",
    "\n",
    "# Use the lat/lng we recovered to identify airports\n",
    "for index, row in hotel_df.iterrows():\n",
    "    # get lat, lng from df\n",
    "    lat = row[\"Lat\"]\n",
    "    lng = row[\"Lng\"]\n",
    "    \n",
    "    # change location each iteration while leaving original params in place\n",
    "    params[\"location\"] = f\"{lat},{lng}\"\n",
    "\n",
    "        # Use the search term: \"International Airport\" and our lat/lng\n",
    "    base_url = \"https://maps.googleapis.com/maps/api/place/nearbysearch/json\"\n",
    "\n",
    "    # make request and print url\n",
    "    hotel = requests.get(base_url, params=params).json()\n",
    "   \n",
    "    try:\n",
    "        hotel_df.loc[index, 'Hotel Name'] = hotel[\"results\"][0][\"name\"]\n",
    "    except:\n",
    "        print(f'Missing cities {lat}, {lng}')\n",
    "hotel_df"
   ]
  },
  {
   "cell_type": "code",
   "execution_count": 15,
   "metadata": {},
   "outputs": [],
   "source": [
    "# NOTE: Do not change any of the code in this cell\n",
    "\n",
    "# Using the template add the hotel marks to the heatmap\n",
    "info_box_template = \"\"\"\n",
    "<dl>\n",
    "<dt>Name</dt><dd>{Hotel Name}</dd>\n",
    "<dt>City</dt><dd>{City}</dd>\n",
    "<dt>Country</dt><dd>{Country}</dd>\n",
    "</dl>\n",
    "\"\"\"\n",
    "# Store the DataFrame Row\n",
    "# NOTE: be sure to update with your DataFrame name\n",
    "hotel_info = [info_box_template.format(**row) for index, row in hotel_df.iterrows()]\n",
    "hotel_info\n",
    "locations = hotel_df[[\"Lat\", \"Lng\"]]"
   ]
  },
  {
   "cell_type": "code",
   "execution_count": 16,
   "metadata": {},
   "outputs": [
    {
     "output_type": "display_data",
     "data": {
      "text/plain": "Figure(layout=FigureLayout(height='420px'))",
      "application/vnd.jupyter.widget-view+json": {
       "version_major": 2,
       "version_minor": 0,
       "model_id": "5d3db351bef8426d9c8a503d8b281023"
      }
     },
     "metadata": {}
    }
   ],
   "source": [
    "# Add marker layer ontop of heat map\n",
    "locations1 = cities_df[['Lat', 'Lng']].astype(float)\n",
    "humidity1 = cities_df['Humidity'].astype(float)\n",
    "# hotel1 = hotel_df('Hotel Name').astype(str)\n",
    "figure_layout = {\n",
    "    'width': '1000px',\n",
    "    'height': '700px',\n",
    "    'border': '1px solid black',\n",
    "    'padding': '1px',\n",
    "    'margin': '0 auto 0 auto'\n",
    "    }\n",
    "fig = gmaps.figure(figure_layout)\n",
    "\n",
    "heat_layer = gmaps.heatmap_layer(locations1, weights=humidity1)\n",
    "marker = gmaps.marker_layer(locations, info_box_content=[f\"Poverty Rate: {hotel}\" for hotel in hotel_info])\n",
    "\n",
    "fig.add_layer(marker)\n",
    "fig.add_layer(heat_layer)\n",
    "fig\n",
    "\n",
    "# Display figure\n"
   ]
  },
  {
   "cell_type": "code",
   "execution_count": null,
   "metadata": {},
   "outputs": [],
   "source": []
  }
 ],
 "metadata": {
  "kernelspec": {
   "name": "python379jvsc74a57bd0ac5a4a8be39a6f36cb398e11c49d1d11aa42d9028028208279e8ac6ab225301c",
   "display_name": "Python 3.7.9 64-bit ('PythonData': conda)"
  },
  "language_info": {
   "codemirror_mode": {
    "name": "ipython",
    "version": 3
   },
   "file_extension": ".py",
   "mimetype": "text/x-python",
   "name": "python",
   "nbconvert_exporter": "python",
   "pygments_lexer": "ipython3",
   "version": "3.7.9"
  },
  "latex_envs": {
   "LaTeX_envs_menu_present": true,
   "autoclose": false,
   "autocomplete": true,
   "bibliofile": "biblio.bib",
   "cite_by": "apalike",
   "current_citInitial": 1,
   "eqLabelWithNumbers": true,
   "eqNumInitial": 1,
   "hotkeys": {
    "equation": "Ctrl-E",
    "itemize": "Ctrl-I"
   },
   "labels_anchors": false,
   "latex_user_defs": false,
   "report_style_numbering": false,
   "user_envs_cfg": false
  }
 },
 "nbformat": 4,
 "nbformat_minor": 4
}