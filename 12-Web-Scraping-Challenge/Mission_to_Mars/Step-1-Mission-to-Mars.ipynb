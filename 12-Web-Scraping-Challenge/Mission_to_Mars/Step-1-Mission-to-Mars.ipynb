{
 "metadata": {
  "language_info": {
   "codemirror_mode": {
    "name": "ipython",
    "version": 3
   },
   "file_extension": ".py",
   "mimetype": "text/x-python",
   "name": "python",
   "nbconvert_exporter": "python",
   "pygments_lexer": "ipython3",
   "version": "3.8.5"
  },
  "orig_nbformat": 2,
  "kernelspec": {
   "name": "python385jvsc74a57bd0766ba92417ffdb3041f7560727c394ed6f11aea40f800978e891db1c0f44e095",
   "display_name": "Python 3.8.5 64-bit ('base': conda)"
  }
 },
 "nbformat": 4,
 "nbformat_minor": 2,
 "cells": [
  {
   "cell_type": "code",
   "execution_count": 1,
   "metadata": {},
   "outputs": [],
   "source": [
    "# Import Dependencies\n",
    "import pandas as pd\n",
    "from splinter import Browser\n",
    "from bs4 import BeautifulSoup\n",
    "from webdriver_manager.chrome import ChromeDriverManager"
   ]
  },
  {
   "cell_type": "code",
   "execution_count": 3,
   "metadata": {},
   "outputs": [
    {
     "output_type": "stream",
     "name": "stderr",
     "text": [
      "\n",
      "\n",
      "====== WebDriver manager ======\n",
      "Current google-chrome version is 91.0.4472\n",
      "Get LATEST driver version for 91.0.4472\n",
      "Driver [C:\\Users\\tarak\\.wdm\\drivers\\chromedriver\\win32\\91.0.4472.19\\chromedriver.exe] found in cache\n"
     ]
    }
   ],
   "source": [
    "# Open Blank Chrome Browser\n",
    "executable_path = {'executable_path': ChromeDriverManager().install()}\n",
    "browser = Browser('chrome', **executable_path, headless=False)"
   ]
  },
  {
   "source": [
    "## NASA Mars News\n",
    "\n",
    "Scrape the NASA Mars News Site and collect the latest News Title and Paragraph Text. Assign the text to variables that you can reference later."
   ],
   "cell_type": "markdown",
   "metadata": {}
  },
  {
   "cell_type": "code",
   "execution_count": 5,
   "metadata": {},
   "outputs": [],
   "source": [
    "# Open link\n",
    "url_news = 'https://mars.nasa.gov/news/'\n",
    "browser.visit(url_news)"
   ]
  },
  {
   "cell_type": "code",
   "execution_count": 6,
   "metadata": {
    "tags": []
   },
   "outputs": [
    {
     "output_type": "stream",
     "name": "stdout",
     "text": [
      "-----------\nnews_title = NASA's Perseverance Rover Begins Its First Science Campaign on Mars\nnews_p = The six-wheeled scientist is heading south to explore Jezero Crater’s lakebed in search of signs of ancient microbial life.\n-----------\nnews_title = NASA's InSight Mars Lander Gets a Power Boost\nnews_p = The spacecraft successfully cleared some dust off its solar panels, helping to raise its energy and delay when it will need to switch off its science instruments.\n-----------\nnews_title = NASA's Curiosity Rover Captures Shining Clouds on Mars\nnews_p = The science team is studying the clouds, which arrived earlier and formed higher than expected, to learn more about the Red Planet. \n-----------\nnews_title = Life Goals: NASA Software Unlocks Martian Rover Productivity\nnews_p = Productivity pundits know lots of tricks to make the most of your day, so you can schedule enough time for important tasks while guarding against overload.\n-----------\nnews_title = Salts Could Be Important Piece of Martian Organic Puzzle\nnews_p = A NASA team has found that organic, or carbon-containing, salts are likely present on Mars, with implications for the Red Planet's past habitability.\n-----------\nnews_title = Seeing NASA's Ingenuity Mars Helicopter Fly in 3D\nnews_p = A new video of the helicopter’s third flight gives viewers the sensation of standing on the Red Planet and seeing the action firsthand.\n-----------\nnews_title = Perseverance's Robotic Arm Starts Conducting Science\nnews_p = NASA’s newest Mars rover is beginning to study the floor of an ancient crater that once held a lake.\n-----------\nnews_title = NASA's Ingenuity Mars Helicopter Completes First One-Way Trip  \nnews_p = The Red Planet rotorcraft headed south in support of furthering research into the potential use of aerial scouts on Mars in the future.\n-----------\nnews_title = NASA's Perseverance Captures Video, Audio of Fourth Ingenuity Flight\nnews_p = Sounds of the Mars Helicopter’s whirring rotors add another new dimension to the historic project.\n-----------\nnews_title = NASA's Ingenuity Helicopter to Begin New Demonstration Phase\nnews_p = The Red Planet rotorcraft will shift focus from proving flight is possible on Mars to demonstrating flight operations that future aerial craft could utilize.\n-----------\nnews_title = NASA Sets Briefing to Discuss Ingenuity Mars Helicopter Next Steps\nnews_p = With three successful flights in the logbook, Ingenuity has demonstrated it is ready for more.\n\n\n-----------\nnews_title = With Goals Met, NASA to Push Envelope With Ingenuity Mars Helicopter\nnews_p = With three successful flights in the logbook, Ingenuity has demonstrated it is ready for more.\n-----------\nnews_title = NASA's Ingenuity Mars Helicopter Flies Faster, Farther on Third Flight\nnews_p = The craft’s April 25 flight was conducted at speeds and distances beyond what had ever been previously demonstrated, even in testing on Earth.\n-----------\nnews_title = NASA's Ingenuity Mars Helicopter Logs Second Successful Flight\nnews_p = The small rotorcraft’s horizons were expanded on its second flight. \n-----------\nnews_title = NASA's Perseverance Mars Rover Extracts First Oxygen From Red Planet\nnews_p = The milestone, which the MOXIE instrument achieved by converting carbon dioxide into oxygen, points the way to future human exploration of the Red Planet. \n-----------\nnews_title = NASA's Ingenuity Mars Helicopter Succeeds in Historic First Flight\nnews_p = The small rotorcraft made history, hovering above Jezero Crater, demonstrating that powered, controlled flight on another planet is possible.\n-----------\nnews_title = NASA to Attempt First Controlled Flight on Mars As Soon As Monday\nnews_p = A livestream will begin at 3:15 a.m. PDT that morning as the helicopter team prepares to receive the data downlink at NASA’s Jet Propulsion Laboratory.\n-----------\nnews_title = NASA's Mars Helicopter to Make First Flight Attempt\nnews_p = The small rotorcraft’s “Wright brothers moment” is two Mars days away.\n-----------\nnews_title = Webinars--Taking Flight: How Girls Can Grow up to Be Engineers \nnews_p = Do you like solving problems, working with other people, and making a difference? Consider a career in engineering!\n-----------\nnews_title = Say Cheese on Mars: Perseverance's Selfie With Ingenuity\nnews_p = NASA’s newest Mars rover used a camera on the end of its robotic arm to snap this shot of itself with the Ingenuity helicopter nearby.\n-----------\nnews_title = NASA's Odyssey Orbiter Marks 20 Historic Years of Mapping Mars \nnews_p = For two decades, the longest-lived spacecraft at the Red Planet has helped locate water ice, assess landing sites, and study the planet’s mysterious moons.\n\n-----------\nnews_title = NASA Invites Public to Take Flight With Ingenuity Mars Helicopter \nnews_p = The helicopter is scheduled to lift off close to the end of the day on April 11.\n-----------\nnews_title = NASA's First Weather Report From Jezero Crater on Mars\nnews_p = Perseverance’s MEDA will help us understand how to prepare astronauts for a future on the Red Planet.\n-----------\nnews_title = NASA's Curiosity Team Names Martian Hill That Serves as Mission ‘Gateway'\nnews_p = The name honors recently deceased mission scientist Rafael Navarro-González, who helped lead the team that identified ancient organic compounds on Mars\n-----------\nnews_title = NASA's Mars Helicopter Survives First Cold Martian Night on Its Own\nnews_p = NASA’s Ingenuity helicopter can be seen on Mars as viewed by the Perseverance rover’s rear Hazard Camera on April 4, 2021, the 44th Martian day, or sol of the mission.\n-----------\nnews_title = NASA's InSight Detects Two Sizable Quakes on Mars\nnews_p = The magnitude 3.3 and 3.1 temblors originated in a region called Cerberus Fossae, further supporting the idea that this location is seismically active.\n-----------\nnews_title = Sensors Collect Crucial Data on Mars Landings With Arrival of Perseverance \nnews_p = MEDLI2 was one of the crucial technologies onboard the rover’s protective aeroshell that helped document the entry, descent, and landing of the spacecraft. \n-----------\nnews_title = NASA's Curiosity Mars Rover Takes Selfie With 'Mont Mercou'\nnews_p = The rover also snapped a pair of panoramas to create a 3D view of the stark cliff face featured in the selfie.\n-----------\nnews_title = NASA Ingenuity Mars Helicopter Prepares for First Flight\nnews_p = Now uncocooned from its protective carbon-fiber shield, the helicopter is being readied for its next steps.  \n-----------\nnews_title = Another First: Perseverance Captures the Sounds of Driving on Mars\nnews_p = NASA’s newest rover recorded audio of itself crunching over the surface of the Red Planet, adding a whole new dimension to Mars exploration.\n-----------\nnews_title = NASA to Host Briefing to Preview First Mars Helicopter Flights\nnews_p = Members of the projects will lay out the steps necessary before the helicopter attempts its historic test flights. \n-----------\nnews_title = New Study Challenges Long-Held Theory of Fate of Mars' Water\nnews_p = The new science results indicate that a large quantity of the Red Planet’s water is trapped in its crust rather than having escaped into space.\n-----------\nnews_title = NASA's Perseverance Mars Rover Mission Honors Navajo Language\nnews_p = Working with the Navajo Nation, the rover team has named features on Mars with words from the Navajo language.\n-----------\nnews_title = Perseverance Rover's SuperCam Science Instrument Delivers First Results\nnews_p = Data from the powerful science tool includes sounds of its laser zapping a rock in order to test what it’s made of.\n-----------\nnews_title = NASA's Perseverance Drives on Mars' Terrain for First Time\nnews_p = The first trek of the agency’s largest, most advanced rover yet on the Red Planet marks a major milestone before science operations get under way.\n-----------\nnews_title = Media Telecon Materials - March 5, 2021\nnews_p = Mission team members are participating in a virtual teleconference to discuss milestones achieved so far since the Feb. 18 landing and those to come.\n-----------\nnews_title = NASA Awards Mars Ascent Propulsion System Contract for Sample Return\nnews_p = The award moves NASA and ESA a step closer to realizing Mars Sample Return, an ambitious planetary exploration program that will build upon decades of science, knowledge, and experience.\n-----------\nnews_title = NASA to Provide Update on Perseverance ‘Firsts' Since Mars Landing \nnews_p = Mission team members are participating in a virtual teleconference to discuss milestones achieved so far since the Feb. 18 landing and those to come.\n-----------\nnews_title = Testing Proves Its Worth With Successful Mars Parachute Deployment\nnews_p = The giant canopy that helped land Perseverance on Mars was tested here on Earth at NASA’s Wallops Flight Facility in Virginia.\n-----------\nnews_title = NASA's Perseverance Rover Gives High-Definition Panoramic View of Landing Site\nnews_p = A 360-degree panorama taken by the rover’s Mastcam-Z instrument will be discussed during a public video chat this Thursday.\n"
     ]
    }
   ],
   "source": [
    "# Iterate through all pages\n",
    "for x in range (1):\n",
    "\n",
    "    # HTML object\n",
    "    html_news = browser.html\n",
    "\n",
    "    # Parse HTML with Beautiful Soup\n",
    "    soup_news = BeautifulSoup(html_news, 'html.parser')\n",
    "\n",
    "    # Retrieve all elements that contain News information\n",
    "    articles = soup_news.find_all('li', class_='slide')\n",
    "    \n",
    "    # Iterate through each book\n",
    "    for article in articles:\n",
    "        # Use Beautiful Soup's find() method to navigate and retrieve attributes\n",
    "        div = article.find('div', class_='content_title')\n",
    "        news_title = div.find('a').text\n",
    "        \n",
    "        news_p = article.find('div', class_='article_teaser_body').text\n",
    "               \n",
    "        print('-----------')\n",
    "        print(f'news_title = {news_title}')\n",
    "        print(f'news_p = {news_p}')\n",
    "        \n",
    "    # Click the 'More' button on each page\n",
    "    \n",
    "    # browser.links.find_by_text('More').click()\n",
    "    "
   ]
  },
  {
   "cell_type": "code",
   "execution_count": 7,
   "metadata": {
    "tags": []
   },
   "outputs": [
    {
     "output_type": "stream",
     "name": "stdout",
     "text": [
      "-----------\nnews_title = NASA's Perseverance Rover Begins Its First Science Campaign on Mars\nnews_p = The six-wheeled scientist is heading south to explore Jezero Crater’s lakebed in search of signs of ancient microbial life.\nnews_t = https://mars.nasa.gov/system/news_items/list_view_images/8963_PIA24663-320x240.jpg\n"
     ]
    }
   ],
   "source": [
    "# Getting only the latest (First) headline.\n",
    "\n",
    "# HTML object\n",
    "html_news = browser.html\n",
    "\n",
    "# Parse HTML with Beautiful Soup\n",
    "soup_news = BeautifulSoup(html_news, 'html.parser')\n",
    "\n",
    "# Use Beautiful Soup's find() method to navigate and retrieve attributes\n",
    "news_title = soup_news.find_all(['div','a'], class_='content_title')[1].text\n",
    "        \n",
    "news_p = soup_news.find('div', class_='article_teaser_body').text\n",
    "\n",
    "relative_img_path = soup_news.find_all('img')[15][\"src\"]\n",
    "img_news = 'https://mars.nasa.gov' + relative_img_path\n",
    "\n",
    "\n",
    "print('-----------')\n",
    "print(f'news_title = {news_title}')\n",
    "print(f'news_p = {news_p}')\n",
    "print(f'news_t = {img_news}')\n",
    "        "
   ]
  },
  {
   "cell_type": "code",
   "execution_count": 34,
   "metadata": {},
   "outputs": [],
   "source": [
    "browser.quit()"
   ]
  },
  {
   "source": [
    "## JPL Mars Space Images - Featured Image\n",
    "\n",
    "\n",
    "Visit the url for JPL Featured Space Image here.\n",
    "\n",
    "\n",
    "Use splinter to navigate the site and find the image url for the current Featured Mars Image and assign the url string to a variable called featured_image_url.\n",
    "\n",
    "\n",
    "Make sure to find the image url to the full size .jpg image.\n",
    "\n",
    "\n",
    "Make sure to save a complete url string for this image.\n",
    "\n",
    "\n",
    "# Example:\n",
    "featured_image_url = 'https://data-class-jpl-space.s3.amazonaws.com/JPL_Space/image/featured/mars2.jpg'"
   ],
   "cell_type": "markdown",
   "metadata": {}
  },
  {
   "cell_type": "code",
   "execution_count": 8,
   "metadata": {},
   "outputs": [
    {
     "output_type": "stream",
     "name": "stderr",
     "text": [
      "\n",
      "\n",
      "====== WebDriver manager ======\n",
      "Current google-chrome version is 91.0.4472\n",
      "Get LATEST driver version for 91.0.4472\n",
      "Driver [C:\\Users\\tarak\\.wdm\\drivers\\chromedriver\\win32\\91.0.4472.19\\chromedriver.exe] found in cache\n"
     ]
    }
   ],
   "source": [
    "# Open Blank Chrome Browser\n",
    "executable_path = {'executable_path': ChromeDriverManager().install()}\n",
    "browser = Browser('chrome', **executable_path, headless=False)\n",
    "\n",
    "url_image = 'https://data-class-jpl-space.s3.amazonaws.com/JPL_Space/index.html'\n",
    "browser.visit(url_image)"
   ]
  },
  {
   "cell_type": "code",
   "execution_count": 36,
   "metadata": {},
   "outputs": [
    {
     "output_type": "stream",
     "name": "stdout",
     "text": [
      "-----------\nfeatured_image_url = https://data-class-jpl-space.s3.amazonaws.com/JPL_Space/image/mars/Icaria Fossae7.jpg\n-----------\nfeatured_image_url = https://data-class-jpl-space.s3.amazonaws.com/JPL_Space/image/mars/Proctor Crater Dunes 7.jpg\n-----------\nfeatured_image_url = https://data-class-jpl-space.s3.amazonaws.com/JPL_Space/image/mars/Icaria Fossae7.jpg\n-----------\nfeatured_image_url = https://data-class-jpl-space.s3.amazonaws.com/JPL_Space/image/mars/Proctor Crater Dunes 7.jpg\n-----------\nfeatured_image_url = https://data-class-jpl-space.s3.amazonaws.com/JPL_Space/image/mars/Proctor Crater Dunes 7.jpg\n-----------\nfeatured_image_url = https://data-class-jpl-space.s3.amazonaws.com/JPL_Space/image/mars/Icaria Fossae7.jpg\n-----------\nfeatured_image_url = https://data-class-jpl-space.s3.amazonaws.com/JPL_Space/image/mars/Icaria Fossae.jpg\n-----------\nfeatured_image_url = https://data-class-jpl-space.s3.amazonaws.com/JPL_Space/image/mars/Ariadnes Colles4.jpg\n-----------\nfeatured_image_url = https://data-class-jpl-space.s3.amazonaws.com/JPL_Space/image/mars/Niger Vallis.jpg\n-----------\nfeatured_image_url = https://data-class-jpl-space.s3.amazonaws.com/JPL_Space/image/mars/Proctor Crater Dunes.jpg\n-----------\nfeatured_image_url = https://data-class-jpl-space.s3.amazonaws.com/JPL_Space/image/mars/Niger Vallis.jpg\n-----------\nfeatured_image_url = https://data-class-jpl-space.s3.amazonaws.com/JPL_Space/image/mars/Daedalia Planum.jpg\n-----------\nfeatured_image_url = https://data-class-jpl-space.s3.amazonaws.com/JPL_Space/image/mars/Sirenum Fossae.jpg\n-----------\nfeatured_image_url = https://data-class-jpl-space.s3.amazonaws.com/JPL_Space/image/mars/Ariadnes Colles4.jpg\n-----------\nfeatured_image_url = https://data-class-jpl-space.s3.amazonaws.com/JPL_Space/image/mars/South Polar Cap.jpg\n-----------\nfeatured_image_url = https://data-class-jpl-space.s3.amazonaws.com/JPL_Space/image/mars/Daedalia Planum.jpg\n-----------\nfeatured_image_url = https://data-class-jpl-space.s3.amazonaws.com/JPL_Space/image/mars/Ariadnes Colles3.jpg\n-----------\nfeatured_image_url = https://data-class-jpl-space.s3.amazonaws.com/JPL_Space/image/mars/Atlantis Chaos.jpg\n-----------\nfeatured_image_url = https://data-class-jpl-space.s3.amazonaws.com/JPL_Space/image/mars/Daedalia Planum.jpg\n-----------\nfeatured_image_url = https://data-class-jpl-space.s3.amazonaws.com/JPL_Space/image/mars/Icaria Fossae.jpg\n-----------\nfeatured_image_url = https://data-class-jpl-space.s3.amazonaws.com/JPL_Space/image/mars/Niger Vallis.jpg\n-----------\nfeatured_image_url = https://data-class-jpl-space.s3.amazonaws.com/JPL_Space/image/mars/Proctor Crater Dunes.jpg\n-----------\nfeatured_image_url = https://data-class-jpl-space.s3.amazonaws.com/JPL_Space/image/mars/Reull Vallis.jpg\n-----------\nfeatured_image_url = https://data-class-jpl-space.s3.amazonaws.com/JPL_Space/image/mars/Ariadnes Colles3.jpg\n-----------\nfeatured_image_url = https://data-class-jpl-space.s3.amazonaws.com/JPL_Space/image/mars/Sirenum Fossae.jpg\n-----------\nfeatured_image_url = https://data-class-jpl-space.s3.amazonaws.com/JPL_Space/image/mars/South Polar Cap.jpg\n-----------\nfeatured_image_url = https://data-class-jpl-space.s3.amazonaws.com/JPL_Space/image/mars/Niger Vallis.jpg\n-----------\nfeatured_image_url = https://data-class-jpl-space.s3.amazonaws.com/JPL_Space/image/mars/Daedalia Planum.jpg\n-----------\nfeatured_image_url = https://data-class-jpl-space.s3.amazonaws.com/JPL_Space/image/mars/Icaria Fossae.jpg\n-----------\nfeatured_image_url = https://data-class-jpl-space.s3.amazonaws.com/JPL_Space/image/mars/Ariadnes Colles4.jpg\n-----------\nfeatured_image_url = https://data-class-jpl-space.s3.amazonaws.com/JPL_Space/image/mars/South Polar Cap.jpg\n-----------\nfeatured_image_url = https://data-class-jpl-space.s3.amazonaws.com/JPL_Space/image/mars/Daedalia Planum.jpg\n"
     ]
    }
   ],
   "source": [
    "\n",
    "for x in range (1):\n",
    "\n",
    "    # HTML object\n",
    "    html_image = browser.html\n",
    "\n",
    "    # Parse HTML with Beautiful Soup\n",
    "    soup_image = BeautifulSoup(html_image, 'html.parser')\n",
    "\n",
    "    # Retrieve all elements that contain News information\n",
    "    images = soup_image.find_all('div', class_='thmb')\n",
    "\n",
    "    # Iterate through each book\n",
    "    for image in images:\n",
    "        # Use Beautiful Soup's find() method to navigate and retrieve attributes\n",
    "\n",
    "        div = image.find('img', class_='thumbimg')\n",
    "        featured_image_url = div['src']\n",
    "        \n",
    "        # news_p = article.find('div', class_='article_teaser_body').text\n",
    "               \n",
    "        print('-----------')\n",
    "        print(f'featured_image_url = https://data-class-jpl-space.s3.amazonaws.com/JPL_Space/{featured_image_url}')\n",
    "        # print(f'news_p = {news_p}')\n",
    "        \n",
    "    # Click the 'More' button on each page\n",
    "    \n",
    "    # browser.links.find_by_text('More').click()"
   ]
  },
  {
   "cell_type": "code",
   "execution_count": 12,
   "metadata": {},
   "outputs": [],
   "source": [
    "browser.quit()"
   ]
  },
  {
   "source": [
    "## Mars Facts\n",
    "\n",
    "\n",
    "Visit the Mars Facts webpage here and use Pandas to scrape the table containing facts about the planet including Diameter, Mass, etc.\n",
    "\n",
    "\n",
    "Use Pandas to convert the data to a HTML table string."
   ],
   "cell_type": "markdown",
   "metadata": {}
  },
  {
   "cell_type": "code",
   "execution_count": 11,
   "metadata": {},
   "outputs": [],
   "source": [
    "url_pandas = 'https://space-facts.com/mars/'"
   ]
  },
  {
   "cell_type": "code",
   "execution_count": 12,
   "metadata": {},
   "outputs": [
    {
     "output_type": "execute_result",
     "data": {
      "text/plain": [
       "  Mars - Earth Comparison             Mars            Earth\n",
       "0               Diameter:         6,779 km        12,742 km\n",
       "1                   Mass:  6.39 × 10^23 kg  5.97 × 10^24 kg\n",
       "2                  Moons:                2                1\n",
       "3      Distance from Sun:   227,943,824 km   149,598,262 km\n",
       "4         Length of Year:   687 Earth days      365.24 days\n",
       "5            Temperature:     -87 to -5 °C      -88 to 58°C"
      ],
      "text/html": "<div>\n<style scoped>\n    .dataframe tbody tr th:only-of-type {\n        vertical-align: middle;\n    }\n\n    .dataframe tbody tr th {\n        vertical-align: top;\n    }\n\n    .dataframe thead th {\n        text-align: right;\n    }\n</style>\n<table border=\"1\" class=\"dataframe\">\n  <thead>\n    <tr style=\"text-align: right;\">\n      <th></th>\n      <th>Mars - Earth Comparison</th>\n      <th>Mars</th>\n      <th>Earth</th>\n    </tr>\n  </thead>\n  <tbody>\n    <tr>\n      <th>0</th>\n      <td>Diameter:</td>\n      <td>6,779 km</td>\n      <td>12,742 km</td>\n    </tr>\n    <tr>\n      <th>1</th>\n      <td>Mass:</td>\n      <td>6.39 × 10^23 kg</td>\n      <td>5.97 × 10^24 kg</td>\n    </tr>\n    <tr>\n      <th>2</th>\n      <td>Moons:</td>\n      <td>2</td>\n      <td>1</td>\n    </tr>\n    <tr>\n      <th>3</th>\n      <td>Distance from Sun:</td>\n      <td>227,943,824 km</td>\n      <td>149,598,262 km</td>\n    </tr>\n    <tr>\n      <th>4</th>\n      <td>Length of Year:</td>\n      <td>687 Earth days</td>\n      <td>365.24 days</td>\n    </tr>\n    <tr>\n      <th>5</th>\n      <td>Temperature:</td>\n      <td>-87 to -5 °C</td>\n      <td>-88 to 58°C</td>\n    </tr>\n  </tbody>\n</table>\n</div>"
     },
     "metadata": {},
     "execution_count": 12
    }
   ],
   "source": [
    "tables = pd.read_html(url_pandas)\n",
    "df_earth_mars = tables[1]\n",
    "df_earth_mars"
   ]
  },
  {
   "cell_type": "code",
   "execution_count": 13,
   "metadata": {},
   "outputs": [
    {
     "output_type": "execute_result",
     "data": {
      "text/plain": [
       "'<table border=\"1\" class=\"dataframe\">  <thead>    <tr style=\"text-align: right;\">      <th></th>      <th>Mars - Earth Comparison</th>      <th>Mars</th>      <th>Earth</th>    </tr>  </thead>  <tbody>    <tr>      <th>0</th>      <td>Diameter:</td>      <td>6,779 km</td>      <td>12,742 km</td>    </tr>    <tr>      <th>1</th>      <td>Mass:</td>      <td>6.39 × 10^23 kg</td>      <td>5.97 × 10^24 kg</td>    </tr>    <tr>      <th>2</th>      <td>Moons:</td>      <td>2</td>      <td>1</td>    </tr>    <tr>      <th>3</th>      <td>Distance from Sun:</td>      <td>227,943,824 km</td>      <td>149,598,262 km</td>    </tr>    <tr>      <th>4</th>      <td>Length of Year:</td>      <td>687 Earth days</td>      <td>365.24 days</td>    </tr>    <tr>      <th>5</th>      <td>Temperature:</td>      <td>-87 to -5 °C</td>      <td>-88 to 58°C</td>    </tr>  </tbody></table>'"
      ]
     },
     "metadata": {},
     "execution_count": 13
    }
   ],
   "source": [
    "html_earth_mars = df_earth_mars.to_html()\n",
    "html_earth_mars.replace('\\n', '')"
   ]
  },
  {
   "cell_type": "code",
   "execution_count": 14,
   "metadata": {},
   "outputs": [
    {
     "output_type": "execute_result",
     "data": {
      "text/plain": [
       "                                              Value\n",
       "Description                                        \n",
       "Equatorial Diameter:                       6,792 km\n",
       "Polar Diameter:                            6,752 km\n",
       "Mass:                 6.39 × 10^23 kg (0.11 Earths)\n",
       "Moons:                          2 (Phobos & Deimos)\n",
       "Orbit Distance:            227,943,824 km (1.38 AU)\n",
       "Orbit Period:                  687 days (1.9 years)\n",
       "Surface Temperature:                   -87 to -5 °C\n",
       "First Record:                     2nd millennium BC\n",
       "Recorded By:                   Egyptian astronomers"
      ],
      "text/html": "<div>\n<style scoped>\n    .dataframe tbody tr th:only-of-type {\n        vertical-align: middle;\n    }\n\n    .dataframe tbody tr th {\n        vertical-align: top;\n    }\n\n    .dataframe thead th {\n        text-align: right;\n    }\n</style>\n<table border=\"1\" class=\"dataframe\">\n  <thead>\n    <tr style=\"text-align: right;\">\n      <th></th>\n      <th>Value</th>\n    </tr>\n    <tr>\n      <th>Description</th>\n      <th></th>\n    </tr>\n  </thead>\n  <tbody>\n    <tr>\n      <th>Equatorial Diameter:</th>\n      <td>6,792 km</td>\n    </tr>\n    <tr>\n      <th>Polar Diameter:</th>\n      <td>6,752 km</td>\n    </tr>\n    <tr>\n      <th>Mass:</th>\n      <td>6.39 × 10^23 kg (0.11 Earths)</td>\n    </tr>\n    <tr>\n      <th>Moons:</th>\n      <td>2 (Phobos &amp; Deimos)</td>\n    </tr>\n    <tr>\n      <th>Orbit Distance:</th>\n      <td>227,943,824 km (1.38 AU)</td>\n    </tr>\n    <tr>\n      <th>Orbit Period:</th>\n      <td>687 days (1.9 years)</td>\n    </tr>\n    <tr>\n      <th>Surface Temperature:</th>\n      <td>-87 to -5 °C</td>\n    </tr>\n    <tr>\n      <th>First Record:</th>\n      <td>2nd millennium BC</td>\n    </tr>\n    <tr>\n      <th>Recorded By:</th>\n      <td>Egyptian astronomers</td>\n    </tr>\n  </tbody>\n</table>\n</div>"
     },
     "metadata": {},
     "execution_count": 14
    }
   ],
   "source": [
    "# Mars Mars facts table to dataframe\n",
    "tables_mars = pd.read_html(url_pandas)\n",
    "df_mars = tables_mars[0]\n",
    "df_mars.columns = ['Description', 'Value']\n",
    "df_mars1 = df_mars.set_index('Description')\n",
    "df_mars1"
   ]
  },
  {
   "cell_type": "code",
   "execution_count": 15,
   "metadata": {},
   "outputs": [
    {
     "output_type": "execute_result",
     "data": {
      "text/plain": [
       "'<table border=\"1\" class=\"dataframe\">  <thead>    <tr style=\"text-align: right;\">      <th></th>      <th>Value</th>    </tr>    <tr>      <th>Description</th>      <th></th>    </tr>  </thead>  <tbody>    <tr>      <th>Equatorial Diameter:</th>      <td>6,792 km</td>    </tr>    <tr>      <th>Polar Diameter:</th>      <td>6,752 km</td>    </tr>    <tr>      <th>Mass:</th>      <td>6.39 × 10^23 kg (0.11 Earths)</td>    </tr>    <tr>      <th>Moons:</th>      <td>2 (Phobos &amp; Deimos)</td>    </tr>    <tr>      <th>Orbit Distance:</th>      <td>227,943,824 km (1.38 AU)</td>    </tr>    <tr>      <th>Orbit Period:</th>      <td>687 days (1.9 years)</td>    </tr>    <tr>      <th>Surface Temperature:</th>      <td>-87 to -5 °C</td>    </tr>    <tr>      <th>First Record:</th>      <td>2nd millennium BC</td>    </tr>    <tr>      <th>Recorded By:</th>      <td>Egyptian astronomers</td>    </tr>  </tbody></table>'"
      ]
     },
     "metadata": {},
     "execution_count": 15
    }
   ],
   "source": [
    "# Mars Mars facts DataFrame to HTML\n",
    "html_mars = df_mars1.to_html()\n",
    "html_mrs = html_mars.replace('\\n', '')\n",
    "html_mrs"
   ]
  },
  {
   "source": [
    "## Mars Hemispheres\n",
    "\n",
    "\n",
    "Visit the USGS Astrogeology site here to obtain high resolution images for each of Mar's hemispheres.\n",
    "\n",
    "\n",
    "You will need to click each of the links to the hemispheres in order to find the image url to the full resolution image.\n",
    "\n",
    "\n",
    "Save both the image url string for the full resolution hemisphere image, and the Hemisphere title containing the hemisphere name. Use a Python dictionary to store the data using the keys img_url and title.\n",
    "\n",
    "\n",
    "Append the dictionary with the image url string and the hemisphere title to a list. This list will contain one dictionary for each hemisphere."
   ],
   "cell_type": "markdown",
   "metadata": {}
  },
  {
   "cell_type": "code",
   "execution_count": 16,
   "metadata": {},
   "outputs": [
    {
     "output_type": "stream",
     "name": "stderr",
     "text": [
      "\n",
      "\n",
      "====== WebDriver manager ======\n",
      "Current google-chrome version is 91.0.4472\n",
      "Get LATEST driver version for 91.0.4472\n",
      "Driver [C:\\Users\\tarak\\.wdm\\drivers\\chromedriver\\win32\\91.0.4472.19\\chromedriver.exe] found in cache\n"
     ]
    }
   ],
   "source": [
    "executable_path = {'executable_path': ChromeDriverManager().install()}\n",
    "browser = Browser('chrome', **executable_path, headless=False)\n",
    "\n",
    "url_hem = [\n",
    "            'https://astrogeology.usgs.gov/search/map/Mars/Viking/cerberus_enhanced',\n",
    "            'https://astrogeology.usgs.gov/search/map/Mars/Viking/schiaparelli_enhanced',\n",
    "            'https://astrogeology.usgs.gov/search/map/Mars/Viking/syrtis_major_enhanced',\n",
    "            'https://astrogeology.usgs.gov/search/map/Mars/Viking/valles_marineris_enhanced'\n",
    "           ]\n",
    "\n"
   ]
  },
  {
   "cell_type": "code",
   "execution_count": 17,
   "metadata": {},
   "outputs": [
    {
     "output_type": "execute_result",
     "data": {
      "text/plain": [
       "[{'title': 'Cerberus Hemisphere Enhanced',\n",
       "  'img_url': 'https://astropedia.astrogeology.usgs.gov/download/Mars/Viking/cerberus_enhanced.tif/full.jpg'},\n",
       " {'title': 'Schiaparelli Hemisphere Enhanced',\n",
       "  'img_url': 'https://astropedia.astrogeology.usgs.gov/download/Mars/Viking/schiaparelli_enhanced.tif/full.jpg'},\n",
       " {'title': 'Syrtis Major Hemisphere Enhanced',\n",
       "  'img_url': 'https://astropedia.astrogeology.usgs.gov/download/Mars/Viking/syrtis_major_enhanced.tif/full.jpg'},\n",
       " {'title': 'Valles Marineris Hemisphere Enhanced',\n",
       "  'img_url': 'https://astropedia.astrogeology.usgs.gov/download/Mars/Viking/valles_marineris_enhanced.tif/full.jpg'}]"
      ]
     },
     "metadata": {},
     "execution_count": 17
    }
   ],
   "source": [
    "# Empty List\n",
    "mars_hem = []\n",
    "\n",
    "# Loop through the links\n",
    "for url in url_hem:\n",
    "    pic_h = {}\n",
    "\n",
    "    # Click on the link\n",
    "    browser.visit(url)\n",
    "\n",
    "    # Scrape\n",
    "    html_m = browser.html\n",
    "    soup_m = BeautifulSoup(html_m, 'html.parser')\n",
    "\n",
    "    # scrape the title\n",
    "    title_m = soup_m.find('h2', class_='title').get_text()\n",
    "    \n",
    "    # Scrape Image URL\n",
    "    images_mars = soup_m.find_all('div', class_='downloads')\n",
    "    for image in images_mars:\n",
    "        image_m = image.find('a')\n",
    "        img_m = image_m['href']\n",
    "\n",
    "\n",
    "    # add both Title and Image URL to \"pic\" dictionary \n",
    "    pic_h['title'] = title_m\n",
    "    pic_h['img_url'] = img_m\n",
    "    # append to Pic\n",
    "    mars_hem.append(pic_h)\n",
    "\n",
    "  \n",
    "Hemisphere_image_urls = mars_hem\n",
    "Hemisphere_image_urls"
   ]
  },
  {
   "cell_type": "code",
   "execution_count": 18,
   "metadata": {},
   "outputs": [],
   "source": [
    "browser.quit()"
   ]
  }
 ]
}